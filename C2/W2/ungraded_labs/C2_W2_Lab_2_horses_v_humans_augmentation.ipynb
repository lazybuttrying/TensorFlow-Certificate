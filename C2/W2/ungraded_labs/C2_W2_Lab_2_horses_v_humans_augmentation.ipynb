{
  "nbformat": 4,
  "nbformat_minor": 0,
  "metadata": {
    "accelerator": "GPU",
    "colab": {
      "name": "C2_W2_Lab_2_horses_v_humans_augmentation.ipynb",
      "provenance": [],
      "collapsed_sections": [],
      "include_colab_link": true
    },
    "kernelspec": {
      "display_name": "Python 3",
      "language": "python",
      "name": "python3"
    },
    "language_info": {
      "codemirror_mode": {
        "name": "ipython",
        "version": 3
      },
      "file_extension": ".py",
      "mimetype": "text/x-python",
      "name": "python",
      "nbconvert_exporter": "python",
      "pygments_lexer": "ipython3",
      "version": "3.8.5"
    }
  },
  "cells": [
    {
      "cell_type": "markdown",
      "metadata": {
        "id": "view-in-github",
        "colab_type": "text"
      },
      "source": [
        "<a href=\"https://colab.research.google.com/github/lazybuttrying/TensorFlow-Certificate/blob/main/C2/W2/ungraded_labs/C2_W2_Lab_2_horses_v_humans_augmentation.ipynb\" target=\"_parent\"><img src=\"https://colab.research.google.com/assets/colab-badge.svg\" alt=\"Open In Colab\"/></a>"
      ]
    },
    {
      "cell_type": "markdown",
      "metadata": {
        "id": "rX8mhOLljYeM"
      },
      "source": [
        "##### Copyright 2019 The TensorFlow Authors."
      ]
    },
    {
      "cell_type": "code",
      "metadata": {
        "cellView": "form",
        "id": "BZSlp3DAjdYf"
      },
      "source": [
        "#@title Licensed under the Apache License, Version 2.0 (the \"License\");\n",
        "# you may not use this file except in compliance with the License.\n",
        "# You may obtain a copy of the License at\n",
        "#\n",
        "# https://www.apache.org/licenses/LICENSE-2.0\n",
        "#\n",
        "# Unless required by applicable law or agreed to in writing, software\n",
        "# distributed under the License is distributed on an \"AS IS\" BASIS,\n",
        "# WITHOUT WARRANTIES OR CONDITIONS OF ANY KIND, either express or implied.\n",
        "# See the License for the specific language governing permissions and\n",
        "# limitations under the License."
      ],
      "execution_count": null,
      "outputs": []
    },
    {
      "cell_type": "code",
      "metadata": {
        "id": "RXZT2UsyIVe_",
        "outputId": "d13d0030-421c-46e7-853c-03ddadc46eec",
        "colab": {
          "base_uri": "https://localhost:8080/"
        }
      },
      "source": [
        "# horses-or-humans dataset\n",
        "!gdown --id 1onaG42NZft3wCE1WH0GDEbUhu75fedP5\n",
        "\n",
        "# horses-or-humans validation dataset\n",
        "!gdown --id 1LYeusSEIiZQpwN-mthh5nKdA75VsKG1U\n",
        "  \n",
        "import os\n",
        "import zipfile\n",
        "\n",
        "zip_ref = zipfile.ZipFile('./horse-or-human.zip', 'r')\n",
        "zip_ref.extractall('tmp/horse-or-human')\n",
        "\n",
        "zip_ref = zipfile.ZipFile('./validation-horse-or-human.zip', 'r')\n",
        "zip_ref.extractall('tmp/validation-horse-or-human')\n",
        "\n",
        "zip_ref.close()\n",
        "\n",
        "# Directory with our training horse pictures\n",
        "train_horse_dir = os.path.join('tmp/horse-or-human/horses')\n",
        "\n",
        "# Directory with our training human pictures\n",
        "train_human_dir = os.path.join('tmp/horse-or-human/humans')\n",
        "\n",
        "# Directory with our training horse pictures\n",
        "validation_horse_dir = os.path.join('tmp/validation-horse-or-human/horses')\n",
        "\n",
        "# Directory with our training human pictures\n",
        "validation_human_dir = os.path.join('tmp/validation-horse-or-human/humans')"
      ],
      "execution_count": 1,
      "outputs": [
        {
          "output_type": "stream",
          "name": "stdout",
          "text": [
            "Downloading...\n",
            "From: https://drive.google.com/uc?id=1onaG42NZft3wCE1WH0GDEbUhu75fedP5\n",
            "To: /content/horse-or-human.zip\n",
            "150MB [00:01, 126MB/s]\n",
            "Downloading...\n",
            "From: https://drive.google.com/uc?id=1LYeusSEIiZQpwN-mthh5nKdA75VsKG1U\n",
            "To: /content/validation-horse-or-human.zip\n",
            "11.5MB [00:00, 101MB/s]\n"
          ]
        }
      ]
    },
    {
      "cell_type": "markdown",
      "metadata": {
        "id": "5oqBkNBJmtUv"
      },
      "source": [
        "## Building a Small Model from Scratch\n",
        "\n",
        "But before we continue, let's start defining the model:\n",
        "\n",
        "Step 1 will be to import tensorflow."
      ]
    },
    {
      "cell_type": "code",
      "metadata": {
        "id": "qvfZg3LQbD-5"
      },
      "source": [
        "import tensorflow as tf"
      ],
      "execution_count": 2,
      "outputs": []
    },
    {
      "cell_type": "markdown",
      "metadata": {
        "id": "BnhYCP4tdqjC"
      },
      "source": [
        "We then add convolutional layers as in the previous example, and flatten the final result to feed into the densely connected layers."
      ]
    },
    {
      "cell_type": "markdown",
      "metadata": {
        "id": "gokG5HKpdtzm"
      },
      "source": [
        "Finally we add the densely connected layers. \n",
        "\n",
        "Note that because we are facing a two-class classification problem, i.e. a *binary classification problem*, we will end our network with a [*sigmoid* activation](https://wikipedia.org/wiki/Sigmoid_function), so that the output of our network will be a single scalar between 0 and 1, encoding the probability that the current image is class 1 (as opposed to class 0)."
      ]
    },
    {
      "cell_type": "code",
      "metadata": {
        "id": "PixZ2s5QbYQ3"
      },
      "source": [
        "model = tf.keras.models.Sequential([\n",
        "    # Note the input shape is the desired size of the image 300x300 with 3 bytes color\n",
        "    # This is the first convolution\n",
        "    tf.keras.layers.Conv2D(16, (3,3), activation='relu', input_shape=(300, 300, 3)),\n",
        "    tf.keras.layers.MaxPooling2D(2, 2),\n",
        "    # The second convolution\n",
        "    tf.keras.layers.Conv2D(32, (3,3), activation='relu'),\n",
        "    tf.keras.layers.MaxPooling2D(2,2),\n",
        "    # The third convolution\n",
        "    tf.keras.layers.Conv2D(64, (3,3), activation='relu'),\n",
        "    tf.keras.layers.MaxPooling2D(2,2),\n",
        "    # The fourth convolution\n",
        "    tf.keras.layers.Conv2D(64, (3,3), activation='relu'),\n",
        "    tf.keras.layers.MaxPooling2D(2,2),\n",
        "    # The fifth convolution\n",
        "    tf.keras.layers.Conv2D(64, (3,3), activation='relu'),\n",
        "    tf.keras.layers.MaxPooling2D(2,2),\n",
        "    # Flatten the results to feed into a DNN\n",
        "    tf.keras.layers.Flatten(),\n",
        "    # 512 neuron hidden layer\n",
        "    tf.keras.layers.Dense(512, activation='relu'),\n",
        "    # Only 1 output neuron. It will contain a value from 0-1 where 0 for 1 class ('horses') and 1 for the other ('humans')\n",
        "    tf.keras.layers.Dense(1, activation='sigmoid')\n",
        "])"
      ],
      "execution_count": 3,
      "outputs": []
    },
    {
      "cell_type": "code",
      "metadata": {
        "id": "8DHWhFP_uhq3"
      },
      "source": [
        "from tensorflow.keras.optimizers import RMSprop\n",
        "\n",
        "model.compile(loss='binary_crossentropy',\n",
        "              optimizer=RMSprop(learning_rate=1e-4),\n",
        "              metrics=['accuracy'])"
      ],
      "execution_count": 4,
      "outputs": []
    },
    {
      "cell_type": "code",
      "metadata": {
        "id": "ClebU9NJg99G",
        "outputId": "dc982ebe-62a6-49f7-9dee-08d05bf210ef",
        "colab": {
          "base_uri": "https://localhost:8080/"
        }
      },
      "source": [
        "from tensorflow.keras.preprocessing.image import ImageDataGenerator\n",
        "\n",
        "# All images will be rescaled by 1./255\n",
        "train_datagen = ImageDataGenerator(\n",
        "      rescale=1./255,\n",
        "      rotation_range=40,\n",
        "      width_shift_range=0.2,\n",
        "      height_shift_range=0.2,\n",
        "      shear_range=0.2,\n",
        "      zoom_range=0.2,\n",
        "      horizontal_flip=True,\n",
        "      fill_mode='nearest')\n",
        "\n",
        "validation_datagen = ImageDataGenerator(rescale=1/255)\n",
        "\n",
        "# Flow training images in batches of 128 using train_datagen generator\n",
        "train_generator = train_datagen.flow_from_directory(\n",
        "        'tmp/horse-or-human/',  # This is the source directory for training images\n",
        "        target_size=(300, 300),  # All images will be resized to 150x150\n",
        "        batch_size=128,\n",
        "        # Since we use binary_crossentropy loss, we need binary labels\n",
        "        class_mode='binary')\n",
        "\n",
        "# Flow training images in batches of 128 using train_datagen generator\n",
        "validation_generator = validation_datagen.flow_from_directory(\n",
        "        'tmp/validation-horse-or-human/',  # This is the source directory for training images\n",
        "        target_size=(300, 300),  # All images will be resized to 150x150\n",
        "        batch_size=32,\n",
        "        # Since we use binary_crossentropy loss, we need binary labels\n",
        "        class_mode='binary')"
      ],
      "execution_count": 5,
      "outputs": [
        {
          "output_type": "stream",
          "name": "stdout",
          "text": [
            "Found 1027 images belonging to 2 classes.\n",
            "Found 256 images belonging to 2 classes.\n"
          ]
        }
      ]
    },
    {
      "cell_type": "code",
      "metadata": {
        "id": "Fb1_lgobv81m",
        "outputId": "0b298fd5-c3e3-4fbc-f175-95d4b0a70fea",
        "colab": {
          "base_uri": "https://localhost:8080/"
        }
      },
      "source": [
        "history = model.fit(\n",
        "      train_generator,\n",
        "      steps_per_epoch=8,  \n",
        "      epochs=100,\n",
        "      verbose=1,\n",
        "      validation_data = validation_generator,\n",
        "      validation_steps=8)"
      ],
      "execution_count": 6,
      "outputs": [
        {
          "output_type": "stream",
          "name": "stdout",
          "text": [
            "Epoch 1/100\n",
            "8/8 [==============================] - 57s 3s/step - loss: 0.6989 - accuracy: 0.5395 - val_loss: 1.1020 - val_accuracy: 0.5000\n",
            "Epoch 2/100\n",
            "8/8 [==============================] - 24s 3s/step - loss: 0.7299 - accuracy: 0.5339 - val_loss: 0.6467 - val_accuracy: 0.6172\n",
            "Epoch 3/100\n",
            "8/8 [==============================] - 24s 3s/step - loss: 0.6800 - accuracy: 0.6029 - val_loss: 0.6428 - val_accuracy: 0.5508\n",
            "Epoch 4/100\n",
            "8/8 [==============================] - 24s 3s/step - loss: 0.6657 - accuracy: 0.6429 - val_loss: 0.6412 - val_accuracy: 0.5273\n",
            "Epoch 5/100\n",
            "8/8 [==============================] - 24s 3s/step - loss: 0.6527 - accuracy: 0.6518 - val_loss: 1.1888 - val_accuracy: 0.5000\n",
            "Epoch 6/100\n",
            "8/8 [==============================] - 24s 3s/step - loss: 0.7407 - accuracy: 0.5651 - val_loss: 0.6100 - val_accuracy: 0.5781\n",
            "Epoch 7/100\n",
            "8/8 [==============================] - 24s 3s/step - loss: 0.6271 - accuracy: 0.6963 - val_loss: 0.5831 - val_accuracy: 0.6211\n",
            "Epoch 8/100\n",
            "8/8 [==============================] - 24s 3s/step - loss: 0.6353 - accuracy: 0.6752 - val_loss: 0.5058 - val_accuracy: 0.8008\n",
            "Epoch 9/100\n",
            "8/8 [==============================] - 24s 3s/step - loss: 0.6016 - accuracy: 0.7052 - val_loss: 0.6088 - val_accuracy: 0.5000\n",
            "Epoch 10/100\n",
            "8/8 [==============================] - 24s 3s/step - loss: 0.6152 - accuracy: 0.6997 - val_loss: 0.5653 - val_accuracy: 0.6562\n",
            "Epoch 11/100\n",
            "8/8 [==============================] - 24s 3s/step - loss: 0.5635 - accuracy: 0.7264 - val_loss: 0.8060 - val_accuracy: 0.5469\n",
            "Epoch 12/100\n",
            "8/8 [==============================] - 24s 3s/step - loss: 0.5665 - accuracy: 0.7241 - val_loss: 0.6841 - val_accuracy: 0.5898\n",
            "Epoch 13/100\n",
            "8/8 [==============================] - 24s 3s/step - loss: 0.5257 - accuracy: 0.7642 - val_loss: 0.5248 - val_accuracy: 0.5586\n",
            "Epoch 14/100\n",
            "8/8 [==============================] - 24s 3s/step - loss: 0.5968 - accuracy: 0.7241 - val_loss: 0.7205 - val_accuracy: 0.6133\n",
            "Epoch 15/100\n",
            "8/8 [==============================] - 24s 3s/step - loss: 0.4877 - accuracy: 0.7853 - val_loss: 1.7468 - val_accuracy: 0.5000\n",
            "Epoch 16/100\n",
            "8/8 [==============================] - 24s 3s/step - loss: 0.5517 - accuracy: 0.7297 - val_loss: 1.1402 - val_accuracy: 0.5352\n",
            "Epoch 17/100\n",
            "8/8 [==============================] - 24s 3s/step - loss: 0.5016 - accuracy: 0.7464 - val_loss: 0.9826 - val_accuracy: 0.5703\n",
            "Epoch 18/100\n",
            "8/8 [==============================] - 24s 3s/step - loss: 0.4940 - accuracy: 0.7642 - val_loss: 0.8525 - val_accuracy: 0.5898\n",
            "Epoch 19/100\n",
            "8/8 [==============================] - 26s 3s/step - loss: 0.4820 - accuracy: 0.7607 - val_loss: 0.6678 - val_accuracy: 0.6914\n",
            "Epoch 20/100\n",
            "8/8 [==============================] - 26s 3s/step - loss: 0.4688 - accuracy: 0.7891 - val_loss: 0.8033 - val_accuracy: 0.6289\n",
            "Epoch 21/100\n",
            "8/8 [==============================] - 24s 3s/step - loss: 0.5088 - accuracy: 0.7553 - val_loss: 0.6919 - val_accuracy: 0.6953\n",
            "Epoch 22/100\n",
            "8/8 [==============================] - 24s 3s/step - loss: 0.5057 - accuracy: 0.7697 - val_loss: 0.8103 - val_accuracy: 0.6445\n",
            "Epoch 23/100\n",
            "8/8 [==============================] - 24s 3s/step - loss: 0.4477 - accuracy: 0.8009 - val_loss: 0.8612 - val_accuracy: 0.6602\n",
            "Epoch 24/100\n",
            "8/8 [==============================] - 24s 3s/step - loss: 0.5140 - accuracy: 0.7786 - val_loss: 0.9046 - val_accuracy: 0.6523\n",
            "Epoch 25/100\n",
            "8/8 [==============================] - 24s 3s/step - loss: 0.4117 - accuracy: 0.8231 - val_loss: 2.1893 - val_accuracy: 0.5078\n",
            "Epoch 26/100\n",
            "8/8 [==============================] - 26s 3s/step - loss: 0.4842 - accuracy: 0.7891 - val_loss: 1.2227 - val_accuracy: 0.5938\n",
            "Epoch 27/100\n",
            "8/8 [==============================] - 24s 3s/step - loss: 0.4603 - accuracy: 0.8020 - val_loss: 1.1063 - val_accuracy: 0.6250\n",
            "Epoch 28/100\n",
            "8/8 [==============================] - 23s 3s/step - loss: 0.3816 - accuracy: 0.8343 - val_loss: 0.8000 - val_accuracy: 0.7266\n",
            "Epoch 29/100\n",
            "8/8 [==============================] - 26s 3s/step - loss: 0.4065 - accuracy: 0.8018 - val_loss: 0.8528 - val_accuracy: 0.6914\n",
            "Epoch 30/100\n",
            "8/8 [==============================] - 24s 3s/step - loss: 0.4577 - accuracy: 0.7976 - val_loss: 1.3228 - val_accuracy: 0.5820\n",
            "Epoch 31/100\n",
            "8/8 [==============================] - 24s 3s/step - loss: 0.3899 - accuracy: 0.8309 - val_loss: 1.0936 - val_accuracy: 0.6328\n",
            "Epoch 32/100\n",
            "8/8 [==============================] - 24s 3s/step - loss: 0.3818 - accuracy: 0.8387 - val_loss: 1.0184 - val_accuracy: 0.6758\n",
            "Epoch 33/100\n",
            "8/8 [==============================] - 24s 3s/step - loss: 0.3982 - accuracy: 0.8265 - val_loss: 0.4502 - val_accuracy: 0.8203\n",
            "Epoch 34/100\n",
            "8/8 [==============================] - 24s 3s/step - loss: 0.3974 - accuracy: 0.8142 - val_loss: 0.9112 - val_accuracy: 0.6992\n",
            "Epoch 35/100\n",
            "8/8 [==============================] - 24s 3s/step - loss: 0.3389 - accuracy: 0.8654 - val_loss: 1.2977 - val_accuracy: 0.6484\n",
            "Epoch 36/100\n",
            "8/8 [==============================] - 26s 3s/step - loss: 0.3591 - accuracy: 0.8350 - val_loss: 1.5564 - val_accuracy: 0.5898\n",
            "Epoch 37/100\n",
            "8/8 [==============================] - 24s 3s/step - loss: 0.3701 - accuracy: 0.8287 - val_loss: 1.4129 - val_accuracy: 0.6250\n",
            "Epoch 38/100\n",
            "8/8 [==============================] - 24s 3s/step - loss: 0.3909 - accuracy: 0.8287 - val_loss: 1.1766 - val_accuracy: 0.6562\n",
            "Epoch 39/100\n",
            "8/8 [==============================] - 24s 3s/step - loss: 0.3840 - accuracy: 0.8420 - val_loss: 1.1616 - val_accuracy: 0.6523\n",
            "Epoch 40/100\n",
            "8/8 [==============================] - 24s 3s/step - loss: 0.3876 - accuracy: 0.8320 - val_loss: 0.7596 - val_accuracy: 0.7422\n",
            "Epoch 41/100\n",
            "8/8 [==============================] - 24s 3s/step - loss: 0.2952 - accuracy: 0.8743 - val_loss: 1.1939 - val_accuracy: 0.6758\n",
            "Epoch 42/100\n",
            "8/8 [==============================] - 24s 3s/step - loss: 0.2877 - accuracy: 0.8687 - val_loss: 2.0476 - val_accuracy: 0.5742\n",
            "Epoch 43/100\n",
            "8/8 [==============================] - 24s 3s/step - loss: 0.3467 - accuracy: 0.8376 - val_loss: 1.1581 - val_accuracy: 0.6953\n",
            "Epoch 44/100\n",
            "8/8 [==============================] - 23s 3s/step - loss: 0.2872 - accuracy: 0.8843 - val_loss: 2.1161 - val_accuracy: 0.5898\n",
            "Epoch 45/100\n",
            "8/8 [==============================] - 24s 3s/step - loss: 0.4040 - accuracy: 0.8476 - val_loss: 3.0565 - val_accuracy: 0.5547\n",
            "Epoch 46/100\n",
            "8/8 [==============================] - 26s 3s/step - loss: 0.2939 - accuracy: 0.8770 - val_loss: 1.3701 - val_accuracy: 0.6680\n",
            "Epoch 47/100\n",
            "8/8 [==============================] - 26s 3s/step - loss: 0.2545 - accuracy: 0.9072 - val_loss: 0.9259 - val_accuracy: 0.7344\n",
            "Epoch 48/100\n",
            "8/8 [==============================] - 23s 3s/step - loss: 0.3237 - accuracy: 0.8509 - val_loss: 2.5221 - val_accuracy: 0.5703\n",
            "Epoch 49/100\n",
            "8/8 [==============================] - 24s 3s/step - loss: 0.2648 - accuracy: 0.8899 - val_loss: 1.6451 - val_accuracy: 0.6523\n",
            "Epoch 50/100\n",
            "8/8 [==============================] - 24s 3s/step - loss: 0.2483 - accuracy: 0.8910 - val_loss: 3.0789 - val_accuracy: 0.5352\n",
            "Epoch 51/100\n",
            "8/8 [==============================] - 24s 3s/step - loss: 0.2741 - accuracy: 0.8810 - val_loss: 1.1444 - val_accuracy: 0.7148\n",
            "Epoch 52/100\n",
            "8/8 [==============================] - 25s 3s/step - loss: 0.3580 - accuracy: 0.8365 - val_loss: 1.2949 - val_accuracy: 0.6797\n",
            "Epoch 53/100\n",
            "8/8 [==============================] - 24s 3s/step - loss: 0.3402 - accuracy: 0.8376 - val_loss: 1.9996 - val_accuracy: 0.5859\n",
            "Epoch 54/100\n",
            "8/8 [==============================] - 24s 3s/step - loss: 0.2409 - accuracy: 0.8988 - val_loss: 1.6210 - val_accuracy: 0.6602\n",
            "Epoch 55/100\n",
            "8/8 [==============================] - 24s 3s/step - loss: 0.2448 - accuracy: 0.9021 - val_loss: 2.1772 - val_accuracy: 0.5898\n",
            "Epoch 56/100\n",
            "8/8 [==============================] - 24s 3s/step - loss: 0.2564 - accuracy: 0.8854 - val_loss: 3.2967 - val_accuracy: 0.5273\n",
            "Epoch 57/100\n",
            "8/8 [==============================] - 24s 3s/step - loss: 0.3003 - accuracy: 0.8632 - val_loss: 1.5448 - val_accuracy: 0.6680\n",
            "Epoch 58/100\n",
            "8/8 [==============================] - 25s 3s/step - loss: 0.2754 - accuracy: 0.8810 - val_loss: 2.0569 - val_accuracy: 0.5938\n",
            "Epoch 59/100\n",
            "8/8 [==============================] - 24s 3s/step - loss: 0.2220 - accuracy: 0.9155 - val_loss: 1.1446 - val_accuracy: 0.7148\n",
            "Epoch 60/100\n",
            "8/8 [==============================] - 25s 3s/step - loss: 0.2437 - accuracy: 0.9010 - val_loss: 1.5892 - val_accuracy: 0.6562\n",
            "Epoch 61/100\n",
            "8/8 [==============================] - 24s 3s/step - loss: 0.2193 - accuracy: 0.9110 - val_loss: 1.3338 - val_accuracy: 0.6953\n",
            "Epoch 62/100\n",
            "8/8 [==============================] - 26s 3s/step - loss: 0.2339 - accuracy: 0.9023 - val_loss: 1.0248 - val_accuracy: 0.7227\n",
            "Epoch 63/100\n",
            "8/8 [==============================] - 24s 3s/step - loss: 0.2824 - accuracy: 0.8865 - val_loss: 2.0583 - val_accuracy: 0.6133\n",
            "Epoch 64/100\n",
            "8/8 [==============================] - 24s 3s/step - loss: 0.3200 - accuracy: 0.8743 - val_loss: 1.9945 - val_accuracy: 0.6094\n",
            "Epoch 65/100\n",
            "8/8 [==============================] - 24s 3s/step - loss: 0.2043 - accuracy: 0.9221 - val_loss: 1.8062 - val_accuracy: 0.6562\n",
            "Epoch 66/100\n",
            "8/8 [==============================] - 24s 3s/step - loss: 0.2822 - accuracy: 0.8810 - val_loss: 1.6353 - val_accuracy: 0.6680\n",
            "Epoch 67/100\n",
            "8/8 [==============================] - 24s 3s/step - loss: 0.2005 - accuracy: 0.9299 - val_loss: 1.5682 - val_accuracy: 0.6836\n",
            "Epoch 68/100\n",
            "8/8 [==============================] - 24s 3s/step - loss: 0.2366 - accuracy: 0.8988 - val_loss: 2.1987 - val_accuracy: 0.6211\n",
            "Epoch 69/100\n",
            "8/8 [==============================] - 24s 3s/step - loss: 0.2118 - accuracy: 0.9221 - val_loss: 1.8272 - val_accuracy: 0.6641\n",
            "Epoch 70/100\n",
            "8/8 [==============================] - 24s 3s/step - loss: 0.3056 - accuracy: 0.8810 - val_loss: 1.2454 - val_accuracy: 0.6914\n",
            "Epoch 71/100\n",
            "8/8 [==============================] - 24s 3s/step - loss: 0.3585 - accuracy: 0.8710 - val_loss: 1.1189 - val_accuracy: 0.6719\n",
            "Epoch 72/100\n",
            "8/8 [==============================] - 24s 3s/step - loss: 0.2224 - accuracy: 0.9077 - val_loss: 1.5924 - val_accuracy: 0.6641\n",
            "Epoch 73/100\n",
            "8/8 [==============================] - 27s 3s/step - loss: 0.1698 - accuracy: 0.9277 - val_loss: 2.0170 - val_accuracy: 0.6367\n",
            "Epoch 74/100\n",
            "8/8 [==============================] - 24s 3s/step - loss: 0.2105 - accuracy: 0.9077 - val_loss: 1.3314 - val_accuracy: 0.7031\n",
            "Epoch 75/100\n",
            "8/8 [==============================] - 24s 3s/step - loss: 0.2085 - accuracy: 0.9177 - val_loss: 1.7789 - val_accuracy: 0.6641\n",
            "Epoch 76/100\n",
            "8/8 [==============================] - 24s 3s/step - loss: 0.1681 - accuracy: 0.9288 - val_loss: 1.9031 - val_accuracy: 0.6641\n",
            "Epoch 77/100\n",
            "8/8 [==============================] - 24s 3s/step - loss: 0.2534 - accuracy: 0.8843 - val_loss: 1.8556 - val_accuracy: 0.6680\n",
            "Epoch 78/100\n",
            "8/8 [==============================] - 24s 3s/step - loss: 0.1744 - accuracy: 0.9310 - val_loss: 2.0776 - val_accuracy: 0.6602\n",
            "Epoch 79/100\n",
            "8/8 [==============================] - 24s 3s/step - loss: 0.2321 - accuracy: 0.8977 - val_loss: 1.6376 - val_accuracy: 0.6758\n",
            "Epoch 80/100\n",
            "8/8 [==============================] - 24s 3s/step - loss: 0.2065 - accuracy: 0.9177 - val_loss: 1.8745 - val_accuracy: 0.6641\n",
            "Epoch 81/100\n",
            "8/8 [==============================] - 24s 3s/step - loss: 0.1984 - accuracy: 0.9255 - val_loss: 1.9674 - val_accuracy: 0.6602\n",
            "Epoch 82/100\n",
            "8/8 [==============================] - 24s 3s/step - loss: 0.1886 - accuracy: 0.9199 - val_loss: 2.6383 - val_accuracy: 0.6016\n",
            "Epoch 83/100\n",
            "8/8 [==============================] - 24s 3s/step - loss: 0.2135 - accuracy: 0.9121 - val_loss: 1.6420 - val_accuracy: 0.6719\n",
            "Epoch 84/100\n",
            "8/8 [==============================] - 24s 3s/step - loss: 0.2119 - accuracy: 0.9166 - val_loss: 2.0213 - val_accuracy: 0.6602\n",
            "Epoch 85/100\n",
            "8/8 [==============================] - 24s 3s/step - loss: 0.1893 - accuracy: 0.9232 - val_loss: 4.8737 - val_accuracy: 0.5117\n",
            "Epoch 86/100\n",
            "8/8 [==============================] - 25s 3s/step - loss: 0.2427 - accuracy: 0.9077 - val_loss: 1.5844 - val_accuracy: 0.6953\n",
            "Epoch 87/100\n",
            "8/8 [==============================] - 24s 3s/step - loss: 0.1612 - accuracy: 0.9321 - val_loss: 1.6801 - val_accuracy: 0.6875\n",
            "Epoch 88/100\n",
            "8/8 [==============================] - 25s 3s/step - loss: 0.2537 - accuracy: 0.8999 - val_loss: 1.3523 - val_accuracy: 0.7031\n",
            "Epoch 89/100\n",
            "8/8 [==============================] - 24s 3s/step - loss: 0.1746 - accuracy: 0.9266 - val_loss: 2.3854 - val_accuracy: 0.6445\n",
            "Epoch 90/100\n",
            "8/8 [==============================] - 24s 3s/step - loss: 0.2075 - accuracy: 0.9143 - val_loss: 2.9923 - val_accuracy: 0.5938\n",
            "Epoch 91/100\n",
            "8/8 [==============================] - 24s 3s/step - loss: 0.1724 - accuracy: 0.9366 - val_loss: 1.9974 - val_accuracy: 0.6602\n",
            "Epoch 92/100\n",
            "8/8 [==============================] - 24s 3s/step - loss: 0.1609 - accuracy: 0.9422 - val_loss: 2.5766 - val_accuracy: 0.6211\n",
            "Epoch 93/100\n",
            "8/8 [==============================] - 24s 3s/step - loss: 0.2478 - accuracy: 0.8988 - val_loss: 1.8974 - val_accuracy: 0.6680\n",
            "Epoch 94/100\n",
            "8/8 [==============================] - 24s 3s/step - loss: 0.1396 - accuracy: 0.9433 - val_loss: 1.7913 - val_accuracy: 0.6875\n",
            "Epoch 95/100\n",
            "8/8 [==============================] - 24s 3s/step - loss: 0.1960 - accuracy: 0.9088 - val_loss: 1.8526 - val_accuracy: 0.6758\n",
            "Epoch 96/100\n",
            "8/8 [==============================] - 24s 3s/step - loss: 0.1591 - accuracy: 0.9444 - val_loss: 3.0275 - val_accuracy: 0.6055\n",
            "Epoch 97/100\n",
            "8/8 [==============================] - 24s 3s/step - loss: 0.1717 - accuracy: 0.9333 - val_loss: 2.3302 - val_accuracy: 0.6562\n",
            "Epoch 98/100\n",
            "8/8 [==============================] - 24s 3s/step - loss: 0.1653 - accuracy: 0.9377 - val_loss: 1.1274 - val_accuracy: 0.7656\n",
            "Epoch 99/100\n",
            "8/8 [==============================] - 24s 3s/step - loss: 0.2487 - accuracy: 0.8865 - val_loss: 2.4649 - val_accuracy: 0.6406\n",
            "Epoch 100/100\n",
            "8/8 [==============================] - 24s 3s/step - loss: 0.1270 - accuracy: 0.9577 - val_loss: 2.7865 - val_accuracy: 0.6289\n"
          ]
        }
      ]
    },
    {
      "cell_type": "code",
      "metadata": {
        "id": "7zNPRWOVJdOH",
        "outputId": "7956bc46-efc5-443e-cb0d-b9186af8d9e4",
        "colab": {
          "base_uri": "https://localhost:8080/",
          "height": 545
        }
      },
      "source": [
        "import matplotlib.pyplot as plt\n",
        "acc = history.history['accuracy']\n",
        "val_acc = history.history['val_accuracy']\n",
        "loss = history.history['loss']\n",
        "val_loss = history.history['val_loss']\n",
        "\n",
        "epochs = range(len(acc))\n",
        "\n",
        "plt.plot(epochs, acc, 'r', label='Training accuracy')\n",
        "plt.plot(epochs, val_acc, 'b', label='Validation accuracy')\n",
        "plt.title('Training and validation accuracy')\n",
        "\n",
        "plt.figure()\n",
        "\n",
        "plt.plot(epochs, loss, 'r', label='Training Loss')\n",
        "plt.plot(epochs, val_loss, 'b', label='Validation Loss')\n",
        "plt.title('Training and validation loss')\n",
        "plt.legend()\n",
        "\n",
        "plt.show()"
      ],
      "execution_count": 7,
      "outputs": [
        {
          "output_type": "display_data",
          "data": {
            "image/png": "[encoded data removed]",
            "text/plain": [
              "<Figure size 432x288 with 1 Axes>"
            ]
          },
          "metadata": {
            "needs_background": "light"
          }
        },
        {
          "output_type": "display_data",
          "data": {
            "image/png": "[encoded data removed]",
            "text/plain": [
              "<Figure size 432x288 with 1 Axes>"
            ]
          },
          "metadata": {
            "needs_background": "light"
          }
        }
      ]
    },
    {
      "cell_type": "markdown",
      "metadata": {
        "id": "f11a1z3MoTxv"
      },
      "source": [
        "훈련의 정확도는 100%를 향해 가고 있지만, 60년대와 70년대에는 검증이 오락가락하고 있다. 이것을 도표로 그려보면, 훈련의 정확도는 우리가 원하는 방식으로 꾸준히 상승하지만, 검증은 미친듯이 요동쳤다는 것을 알 수 있습니다. 여기서 우리가 배울 수 있는 것은 이미지 증강이 훈련 이미지에 무작위 요소를 도입한다는 것입니다. 하지만 검증 세트가 동일한 무작위성을 가지고 있지 않다면, 그 결과는 이렇게 변동할 수 있습니다. 따라서 훈련에만 필요한 것이 아니라 테스트에도 필요한 이미지입니다. 그렇지 않으면 이미지 확대가 큰 도움이 되지 않습니다.\n",
        "\n",
        "Data Augmentation은 꼭 train, val에 동일하게 적용해야 한다!"
      ]
    },
    {
      "cell_type": "code",
      "metadata": {
        "id": "ZO3wmeGFoYUR"
      },
      "source": [
        ""
      ],
      "execution_count": null,
      "outputs": []
    }
  ]
}