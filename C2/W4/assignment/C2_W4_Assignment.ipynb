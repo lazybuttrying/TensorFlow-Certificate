{
  "nbformat": 4,
  "nbformat_minor": 0,
  "metadata": {
    "colab": {
      "name": "C2_W4_Assignment.ipynb",
      "provenance": [],
      "collapsed_sections": [],
      "include_colab_link": true
    },
    "kernelspec": {
      "display_name": "Python 3",
      "language": "python",
      "name": "python3"
    },
    "language_info": {
      "codemirror_mode": {
        "name": "ipython",
        "version": 3
      },
      "file_extension": ".py",
      "mimetype": "text/x-python",
      "name": "python",
      "nbconvert_exporter": "python",
      "pygments_lexer": "ipython3",
      "version": "3.8.5"
    },
    "accelerator": "GPU"
  },
  "cells": [
    {
      "cell_type": "markdown",
      "metadata": {
        "id": "view-in-github",
        "colab_type": "text"
      },
      "source": [
        "<a href=\"https://colab.research.google.com/github/lazybuttrying/TensorFlow-Certificate/blob/main/C2/W4/assignment/C2_W4_Assignment.ipynb\" target=\"_parent\"><img src=\"https://colab.research.google.com/assets/colab-badge.svg\" alt=\"Open In Colab\"/></a>"
      ]
    },
    {
      "cell_type": "code",
      "metadata": {
        "id": "zX4Kg8DUTKWO"
      },
      "source": [
        "#@title Licensed under the Apache License, Version 2.0 (the \"License\");\n",
        "# you may not use this file except in compliance with the License.\n",
        "# You may obtain a copy of the License at\n",
        "#\n",
        "# https://www.apache.org/licenses/LICENSE-2.0\n",
        "#\n",
        "# Unless required by applicable law or agreed to in writing, software\n",
        "# distributed under the License is distributed on an \"AS IS\" BASIS,\n",
        "# WITHOUT WARRANTIES OR CONDITIONS OF ANY KIND, either express or implied.\n",
        "# See the License for the specific language governing permissions and\n",
        "# limitations under the License."
      ],
      "execution_count": 1,
      "outputs": []
    },
    {
      "cell_type": "markdown",
      "metadata": {
        "id": "KGYHjVbZHv1G"
      },
      "source": [
        "**IMPORTANT NOTE:** This notebook is designed to run as a Colab. Click the button on top that says, `Open in Colab`, to run this notebook as a Colab. Running the notebook on your local machine might result in some of the code blocks throwing errors."
      ]
    },
    {
      "cell_type": "code",
      "metadata": {
        "id": "wYtuKeK0dImp"
      },
      "source": [
        "import csv\n",
        "import numpy as np\n",
        "import tensorflow as tf\n",
        "from tensorflow.keras.preprocessing.image import ImageDataGenerator\n",
        "from google.colab import files"
      ],
      "execution_count": 2,
      "outputs": []
    },
    {
      "cell_type": "code",
      "metadata": {
        "id": "4kxw-_rmcnVu",
        "outputId": "3ac9bab3-c319-4c3d-b0e8-610f75b9c44b",
        "colab": {
          "base_uri": "https://localhost:8080/"
        }
      },
      "source": [
        "# sign_mnist_train.csv\n",
        "!gdown --id 1z0DkA9BytlLxO1C0BAWzknLyQmZAp0HR\n",
        "# sign_mnist_test.csv\n",
        "!gdown --id 1z1BIj4qmri59GWBG4ivMNFtpZ4AXIbzg\n",
        "\n",
        "def get_data(filename):\n",
        "  # You will need to write code that will read the file passed\n",
        "  # into this function. The first line contains the column headers\n",
        "  # so you should ignore it\n",
        "  # Each successive line contians 785 comma separated values between 0 and 255\n",
        "  # The first value is the label\n",
        "  # The rest are the pixel values for that picture\n",
        "  # The function will return 2 np.array types. One with all the labels\n",
        "  # One with all the images\n",
        "  #\n",
        "  # Tips: \n",
        "  # If you read a full line (as 'row') then row[0] has the label\n",
        "  # and row[1:785] has the 784 pixel values\n",
        "  # Take a look at np.array_split to turn the 784 pixels into 28x28\n",
        "  # You are reading in strings, but need the values to be floats\n",
        "  # Check out np.array().astype for a conversion\n",
        "    with open(filename) as training_file:\n",
        "      ### START CODE HERE\n",
        "      data = csv.reader(training_file, delimiter=',')\n",
        "      next(data) # 첫 줄 날리기\n",
        "      \n",
        "      images, labels = [], []\n",
        "      for row in data:\n",
        "        labels.append(row[0])\n",
        "        image_as_array = np.array_split(row[1:785], 28)\n",
        "        images.append(image_as_array)\n",
        "      images = np.array(images).astype('float')\n",
        "      labels = np.array(labels).astype('float')\n",
        "      ### END CODE HERE\n",
        "      \n",
        "    return images, labels\n",
        "\n",
        "\n",
        "training_images, training_labels = get_data('./sign_mnist_train.csv')\n",
        "testing_images, testing_labels = get_data('./sign_mnist_test.csv')\n",
        "\n",
        "# Keep these\n",
        "print(training_images.shape)\n",
        "print(training_labels.shape)\n",
        "print(testing_images.shape)\n",
        "print(testing_labels.shape)\n",
        "\n",
        "# Their output should be:\n",
        "# (27455, 28, 28)\n",
        "# (27455,)\n",
        "# (7172, 28, 28)\n",
        "# (7172,)"
      ],
      "execution_count": 3,
      "outputs": [
        {
          "output_type": "stream",
          "name": "stdout",
          "text": [
            "Downloading...\n",
            "From: https://drive.google.com/uc?id=1z0DkA9BytlLxO1C0BAWzknLyQmZAp0HR\n",
            "To: /content/sign_mnist_train.csv\n",
            "83.3MB [00:00, 162MB/s]\n",
            "Downloading...\n",
            "From: https://drive.google.com/uc?id=1z1BIj4qmri59GWBG4ivMNFtpZ4AXIbzg\n",
            "To: /content/sign_mnist_test.csv\n",
            "21.8MB [00:00, 101MB/s] \n",
            "(27455, 28, 28)\n",
            "(27455,)\n",
            "(7172, 28, 28)\n",
            "(7172,)\n"
          ]
        }
      ]
    },
    {
      "cell_type": "code",
      "metadata": {
        "id": "teX9mlAmo6oY",
        "outputId": "81931fd3-5765-4a37-e961-c24bc176f094",
        "colab": {
          "base_uri": "https://localhost:8080/"
        }
      },
      "source": [
        "print(len(np.unique(training_labels)), np.unique(training_labels))"
      ],
      "execution_count": 4,
      "outputs": [
        {
          "output_type": "stream",
          "name": "stdout",
          "text": [
            "24 [ 0.  1.  2.  3.  4.  5.  6.  7.  8. 10. 11. 12. 13. 14. 15. 16. 17. 18.\n",
            " 19. 20. 21. 22. 23. 24.]\n"
          ]
        }
      ]
    },
    {
      "cell_type": "code",
      "metadata": {
        "id": "awoqRpyZdQkD",
        "outputId": "56236e4b-abe8-43ae-9a6e-7e1d2bfd5f06",
        "colab": {
          "base_uri": "https://localhost:8080/"
        }
      },
      "source": [
        "# In this section you will have to add another dimension to the data\n",
        "# So, for example, if your array is (10000, 28, 28)\n",
        "# You will need to make it (10000, 28, 28, 1)\n",
        "# Hint: np.expand_dims\n",
        "\n",
        "training_images = np.expand_dims(training_images, axis=-1)\n",
        "testing_images = np.expand_dims(testing_images, axis=-1) \n",
        "\n",
        "train_datagen = ImageDataGenerator(\n",
        "    rescale = 1./255,\n",
        "    width_shift_range = 0.2,\n",
        "    height_shift_range = 0.2,\n",
        "    shear_range = 0.2,\n",
        "    zoom_range = 0.2,\n",
        "    )\n",
        "\n",
        "validation_datagen = ImageDataGenerator(\n",
        "    rescale = 1./255\n",
        "    )\n",
        "\n",
        "# Keep These\n",
        "print(training_images.shape)\n",
        "print(testing_images.shape)\n",
        "\n",
        "    \n",
        "# Their output should be:\n",
        "# (27455, 28, 28, 1)\n",
        "# (7172, 28, 28, 1)"
      ],
      "execution_count": 5,
      "outputs": [
        {
          "output_type": "stream",
          "name": "stdout",
          "text": [
            "(27455, 28, 28, 1)\n",
            "(7172, 28, 28, 1)\n"
          ]
        }
      ]
    },
    {
      "cell_type": "code",
      "metadata": {
        "id": "Rmb7S32cgRqS",
        "outputId": "1d4a10ba-1f87-4703-8b05-ba5b277436da",
        "colab": {
          "base_uri": "https://localhost:8080/"
        }
      },
      "source": [
        "# Define the model\n",
        "# Use no more than 2 Conv2D and 2 MaxPooling2D\n",
        "model = tf.keras.models.Sequential([\n",
        "    ### START CODE HERE                                \n",
        "    # This is the first convolution\n",
        "    tf.keras.layers.Conv2D(64, (3,3), activation='relu', input_shape=(28, 28, 1)),\n",
        "    tf.keras.layers.MaxPooling2D(2, 2),\n",
        "    # The second convolution\n",
        "    tf.keras.layers.Conv2D(64, (3,3), activation='relu'),\n",
        "    tf.keras.layers.MaxPooling2D(2,2),\n",
        "     # Flatten the results to feed into a DNN\n",
        "    tf.keras.layers.Flatten(),\n",
        "    tf.keras.layers.Dropout(0.5),\n",
        "    # 512 neuron hidden layer\n",
        "    tf.keras.layers.Dense(512, activation='relu'),\n",
        "    tf.keras.layers.Dense(26, activation='softmax')  # sigmoid -> softmax\n",
        "    # 25개 + 아무것도 아님 -> 26개?\n",
        "    ### END CODE HERE\n",
        "])\n",
        "\n",
        "# 'categorical_crossentropy'는 one-hot 용\n",
        "# 'sparse_categorical_crossentropy' 는 integer target 용\n",
        "model.compile(loss = 'sparse_categorical_crossentropy', \n",
        "              optimizer='adam', \n",
        "              metrics=['accuracy'])\n",
        "\n",
        "batch_size = 32\n",
        "temp_train = train_datagen.flow(training_images,\n",
        "                          training_labels,\n",
        "                          batch_size=batch_size)\n",
        "\n",
        "temp_valid = validation_datagen.flow(testing_images,\n",
        "                                     testing_labels,\n",
        "                                     batch_size = batch_size)\n",
        "print(temp_valid)\n",
        "\n",
        "history = model.fit(temp_train,\n",
        "                    epochs = 15,\n",
        "                    steps_per_epoch = len(training_images)//batch_size,\n",
        "                    validation_data = temp_valid,\n",
        "                    verbose = 1,\n",
        "                    validation_steps = len(testing_images)//batch_size)\n",
        "\n",
        "model.evaluate(testing_images, testing_labels)\n",
        "\n",
        "# The output from model.evaluate should be close to:\n",
        "# [6.92426086682151, 0.56609035]\n"
      ],
      "execution_count": 6,
      "outputs": [
        {
          "output_type": "stream",
          "name": "stdout",
          "text": [
            "<keras.preprocessing.image.NumpyArrayIterator object at 0x7f0164c59fd0>\n",
            "Epoch 1/15\n",
            "857/857 [==============================] - 19s 20ms/step - loss: 2.1865 - accuracy: 0.3260 - val_loss: 0.9284 - val_accuracy: 0.6536\n",
            "Epoch 2/15\n",
            "857/857 [==============================] - 17s 19ms/step - loss: 1.1153 - accuracy: 0.6283 - val_loss: 0.4519 - val_accuracy: 0.8503\n",
            "Epoch 3/15\n",
            "857/857 [==============================] - 17s 19ms/step - loss: 0.7893 - accuracy: 0.7327 - val_loss: 0.2182 - val_accuracy: 0.9456\n",
            "Epoch 4/15\n",
            "857/857 [==============================] - 17s 20ms/step - loss: 0.6089 - accuracy: 0.7940 - val_loss: 0.1383 - val_accuracy: 0.9720\n",
            "Epoch 5/15\n",
            "857/857 [==============================] - 17s 19ms/step - loss: 0.4981 - accuracy: 0.8313 - val_loss: 0.1638 - val_accuracy: 0.9414\n",
            "Epoch 6/15\n",
            "857/857 [==============================] - 17s 20ms/step - loss: 0.4341 - accuracy: 0.8532 - val_loss: 0.0680 - val_accuracy: 0.9894\n",
            "Epoch 7/15\n",
            "857/857 [==============================] - 17s 19ms/step - loss: 0.3889 - accuracy: 0.8678 - val_loss: 0.0698 - val_accuracy: 0.9798\n",
            "Epoch 8/15\n",
            "857/857 [==============================] - 17s 20ms/step - loss: 0.3418 - accuracy: 0.8858 - val_loss: 0.0592 - val_accuracy: 0.9833\n",
            "Epoch 9/15\n",
            "857/857 [==============================] - 17s 20ms/step - loss: 0.3122 - accuracy: 0.8948 - val_loss: 0.0324 - val_accuracy: 0.9950\n",
            "Epoch 10/15\n",
            "857/857 [==============================] - 17s 20ms/step - loss: 0.2915 - accuracy: 0.9045 - val_loss: 0.0418 - val_accuracy: 0.9859\n",
            "Epoch 11/15\n",
            "857/857 [==============================] - 17s 20ms/step - loss: 0.2618 - accuracy: 0.9135 - val_loss: 0.0303 - val_accuracy: 0.9946\n",
            "Epoch 12/15\n",
            "857/857 [==============================] - 17s 20ms/step - loss: 0.2484 - accuracy: 0.9158 - val_loss: 0.0253 - val_accuracy: 0.9954\n",
            "Epoch 13/15\n",
            "857/857 [==============================] - 17s 20ms/step - loss: 0.2330 - accuracy: 0.9217 - val_loss: 0.0152 - val_accuracy: 0.9996\n",
            "Epoch 14/15\n",
            "857/857 [==============================] - 17s 19ms/step - loss: 0.2253 - accuracy: 0.9243 - val_loss: 0.0097 - val_accuracy: 1.0000\n",
            "Epoch 15/15\n",
            "857/857 [==============================] - 17s 19ms/step - loss: 0.2243 - accuracy: 0.9258 - val_loss: 0.0285 - val_accuracy: 0.9934\n",
            "225/225 [==============================] - 1s 5ms/step - loss: 11.2797 - accuracy: 0.9628\n"
          ]
        },
        {
          "output_type": "execute_result",
          "data": {
            "text/plain": [
              "[11.279675483703613, 0.9627718925476074]"
            ]
          },
          "metadata": {},
          "execution_count": 6
        }
      ]
    },
    {
      "cell_type": "code",
      "metadata": {
        "id": "_Q3Zpr46dsij",
        "outputId": "f650f6d3-43c4-42d1-8134-ca89a9591c62",
        "colab": {
          "base_uri": "https://localhost:8080/",
          "height": 545
        }
      },
      "source": [
        "# Plot the chart for accuracy and loss on both training and validation\n",
        "\n",
        "import matplotlib.pyplot as plt\n",
        "acc = history.history['accuracy']\n",
        "val_acc = history.history['val_accuracy']\n",
        "loss = history.history['loss']\n",
        "val_loss = history.history['val_loss']\n",
        "\n",
        "epochs = range(len(acc))\n",
        "\n",
        "plt.plot(epochs, acc, 'r', label='Training accuracy')\n",
        "plt.plot(epochs, val_acc, 'b', label='Validation accuracy')\n",
        "plt.title('Training and validation accuracy')\n",
        "plt.legend()\n",
        "plt.figure()\n",
        "\n",
        "plt.plot(epochs, loss, 'r', label='Training Loss')\n",
        "plt.plot(epochs, val_loss, 'b', label='Validation Loss')\n",
        "plt.title('Training and validation loss')\n",
        "plt.legend()\n",
        "\n",
        "plt.show()"
      ],
      "execution_count": 8,
      "outputs": [
        {
          "output_type": "display_data",
          "data": {
            "image/png": "[encoded data removed]",
            "text/plain": [
              "<Figure size 432x288 with 1 Axes>"
            ]
          },
          "metadata": {
            "needs_background": "light"
          }
        },
        {
          "output_type": "display_data",
          "data": {
            "image/png": "[encoded data removed]",
            "text/plain": [
              "<Figure size 432x288 with 1 Axes>"
            ]
          },
          "metadata": {
            "needs_background": "light"
          }
        }
      ]
    },
    {
      "cell_type": "code",
      "metadata": {
        "id": "v9ie8cp9ughd"
      },
      "source": [
        ""
      ],
      "execution_count": null,
      "outputs": []
    }
  ]
}