{
  "nbformat": 4,
  "nbformat_minor": 0,
  "metadata": {
    "accelerator": "GPU",
    "colab": {
      "name": "C2_W3_Lab_1_transfer_learning.ipynb",
      "provenance": [],
      "collapsed_sections": [],
      "include_colab_link": true
    },
    "kernelspec": {
      "name": "python3",
      "display_name": "Python 3"
    },
    "language_info": {
      "name": "python"
    }
  },
  "cells": [
    {
      "cell_type": "markdown",
      "metadata": {
        "id": "view-in-github",
        "colab_type": "text"
      },
      "source": [
        "<a href=\"https://colab.research.google.com/github/lazybuttrying/TensorFlow-Certificate/blob/main/C2/W3/ungraded_labs/C2_W3_Lab_1_transfer_learning.ipynb\" target=\"_parent\"><img src=\"https://colab.research.google.com/assets/colab-badge.svg\" alt=\"Open In Colab\"/></a>"
      ]
    },
    {
      "cell_type": "markdown",
      "metadata": {
        "id": "rX8mhOLljYeM"
      },
      "source": [
        "##### Copyright 2019 The TensorFlow Authors."
      ]
    },
    {
      "cell_type": "code",
      "metadata": {
        "cellView": "form",
        "id": "BZSlp3DAjdYf"
      },
      "source": [
        "#@title Licensed under the Apache License, Version 2.0 (the \"License\");\n",
        "# you may not use this file except in compliance with the License.\n",
        "# You may obtain a copy of the License at\n",
        "#\n",
        "# https://www.apache.org/licenses/LICENSE-2.0\n",
        "#\n",
        "# Unless required by applicable law or agreed to in writing, software\n",
        "# distributed under the License is distributed on an \"AS IS\" BASIS,\n",
        "# WITHOUT WARRANTIES OR CONDITIONS OF ANY KIND, either express or implied.\n",
        "# See the License for the specific language governing permissions and\n",
        "# limitations under the License."
      ],
      "execution_count": null,
      "outputs": []
    },
    {
      "cell_type": "markdown",
      "metadata": {
        "id": "Qvrr8pLRzJMV"
      },
      "source": [
        "**IMPORTANT NOTE:** This notebook is designed to run as a Colab. Click the button on top that says, `Open in Colab`, to run this notebook as a Colab. Running the notebook on your local machine might result in some of the code blocks throwing errors."
      ]
    },
    {
      "cell_type": "code",
      "metadata": {
        "id": "1xJZ5glPPCRz",
        "outputId": "722926b1-afab-4ed9-b8df-9bcd6df23681",
        "colab": {
          "base_uri": "https://localhost:8080/"
        }
      },
      "source": [
        "import os\n",
        "\n",
        "from tensorflow.keras import layers\n",
        "from tensorflow.keras import Model\n",
        "\n",
        "# pre-trained weights 가져오기\n",
        "!wget --no-check-certificate \\\n",
        "    https://storage.googleapis.com/mledu-datasets/inception_v3_weights_tf_dim_ordering_tf_kernels_notop.h5 \\\n",
        "    -O /tmp/inception_v3_weights_tf_dim_ordering_tf_kernels_notop.h5\n",
        "  \n"
      ],
      "execution_count": 2,
      "outputs": [
        {
          "output_type": "stream",
          "name": "stdout",
          "text": [
            "--2021-09-30 08:46:26--  https://storage.googleapis.com/mledu-datasets/inception_v3_weights_tf_dim_ordering_tf_kernels_notop.h5\n",
            "Resolving storage.googleapis.com (storage.googleapis.com)... 108.177.120.128, 108.177.121.128, 142.250.128.128, ...\n",
            "Connecting to storage.googleapis.com (storage.googleapis.com)|108.177.120.128|:443... connected.\n",
            "HTTP request sent, awaiting response... 200 OK\n",
            "Length: 87910968 (84M) [application/x-hdf]\n",
            "Saving to: ‘/tmp/inception_v3_weights_tf_dim_ordering_tf_kernels_notop.h5’\n",
            "\n",
            "/tmp/inception_v3_w 100%[===================>]  83.84M   180MB/s    in 0.5s    \n",
            "\n",
            "2021-09-30 08:46:26 (180 MB/s) - ‘/tmp/inception_v3_weights_tf_dim_ordering_tf_kernels_notop.h5’ saved [87910968/87910968]\n",
            "\n"
          ]
        }
      ]
    },
    {
      "cell_type": "code",
      "metadata": {
        "id": "KsiBCpQ1VvPp",
        "outputId": "4e6e9918-5922-4737-a0f2-f6ae0aa6e4eb",
        "colab": {
          "base_uri": "https://localhost:8080/"
        }
      },
      "source": [
        "from tensorflow.keras.applications.inception_v3 import InceptionV3\n",
        "\n",
        "local_weights_file = '/tmp/inception_v3_weights_tf_dim_ordering_tf_kernels_notop.h5'\n",
        "\n",
        "pre_trained_model = InceptionV3(input_shape = (150, 150, 3), \n",
        "                                include_top = False, \n",
        "                                weights = None)\n",
        "\n",
        "pre_trained_model.load_weights(local_weights_file)\n",
        "\n",
        "for layer in pre_trained_model.layers:\n",
        "  layer.trainable = False # pre-trained weights를 그대로 쓰기 위해\n",
        "  \n",
        "# pre_trained_model.summary()\n",
        "\n",
        "#Transfer Learning을 보고 기존 모델을 사용하여 \n",
        "#많은 레이어를 동결하여 재훈련을 방지하고 \n",
        "#이미지에 맞게 훈련된 컨볼루션을 효과적으로 '기억'하는 방법을 보았습니다. \n",
        "\n",
        "#그런 다음 이 아래에 고유한 DNN을 추가하여 \n",
        "#다른 모델의 컨볼루션을 사용하여 이미지를 다시 학습할 수 있습니다. "
      ],
      "execution_count": 3,
      "outputs": [
        {
          "output_type": "stream",
          "name": "stdout",
          "text": [
            "last layer output shape:  (None, 7, 7, 768)\n"
          ]
        }
      ]
    },
    {
      "cell_type": "code",
      "metadata": {
        "id": "BMXb913pbvFg"
      },
      "source": [
        "from tensorflow.keras.optimizers import RMSprop\n",
        "\n",
        "\n",
        "# 모든 레이어에는 이름이 있으니, 마지막 레이어의 이름을 보고 싶을 때\n",
        "\n",
        "last_layer = pre_trained_model.get_layer('mixed7') \n",
        "# mixed7은 7x7인 convolution의 출력\n",
        "# 이 layer를 쓸 필요는 없으며, 다른 사람과 실헝할 때 재미로 쓰기 좋음\n",
        "# 이 코드를 사용하면 inception model로부터 마지막 레이어를 잡아서 최종 출력까지 데리고 감\n",
        " \n",
        "print('last layer output shape: ', last_layer.output_shape)\n",
        "last_output = last_layer.output\n",
        "\n",
        "\n",
        "# Flatten the output layer to 1 dimension\n",
        "x = layers.Flatten()(last_output) \n",
        "\n",
        "# Add a fully connected layer with 1,024 hidden units and ReLU activation\n",
        "x = layers.Dense(1024, activation='relu')(x)\n",
        "# Add a dropout rate of 0.2\n",
        "x = layers.Dropout(0.2)(x)    # overfitting을 해결하기 위해 \n",
        "# 20%의 unit을 탈락시킴\n",
        "\n",
        "# Add a final sigmoid layer for classification\n",
        "x = layers.Dense  (1, activation='sigmoid')(x)   # 이진 분류이므로 unit 1개  \n",
        "\n",
        "model = Model( pre_trained_model.input, x) \n",
        "\n",
        "model.compile(optimizer = RMSprop(learning_rate=0.0001), \n",
        "              loss = 'binary_crossentropy', \n",
        "              metrics = ['accuracy'])\n"
      ],
      "execution_count": 4,
      "outputs": []
    },
    {
      "cell_type": "code",
      "metadata": {
        "id": "O4s8HckqGlnb",
        "outputId": "bb71acb5-55c7-42c2-b8ec-a2031e325957",
        "colab": {
          "base_uri": "https://localhost:8080/"
        }
      },
      "source": [
        "!gdown --id 1RL0T7Rg4XqQNRCkjfnLo4goOJQ7XZro9\n",
        "\n",
        "from tensorflow.keras.preprocessing.image import ImageDataGenerator\n",
        "\n",
        "import os\n",
        "import zipfile\n",
        "\n",
        "zip_ref = zipfile.ZipFile(\"./cats_and_dogs_filtered.zip\", 'r')\n",
        "zip_ref.extractall(\"tmp/\")\n",
        "zip_ref.close()\n",
        "\n",
        "# Define our example directories and files\n",
        "base_dir = 'tmp/cats_and_dogs_filtered'\n",
        "\n",
        "train_dir = os.path.join( base_dir, 'train')\n",
        "validation_dir = os.path.join( base_dir, 'validation')\n",
        "\n",
        "\n",
        "train_cats_dir = os.path.join(train_dir, 'cats') # Directory with our training cat pictures\n",
        "train_dogs_dir = os.path.join(train_dir, 'dogs') # Directory with our training dog pictures\n",
        "validation_cats_dir = os.path.join(validation_dir, 'cats') # Directory with our validation cat pictures\n",
        "validation_dogs_dir = os.path.join(validation_dir, 'dogs')# Directory with our validation dog pictures\n",
        "\n",
        "train_cat_fnames = os.listdir(train_cats_dir)\n",
        "train_dog_fnames = os.listdir(train_dogs_dir)\n",
        "\n",
        "# Add our data-augmentation parameters to ImageDataGenerator\n",
        "train_datagen = ImageDataGenerator(rescale = 1./255.,\n",
        "                                   rotation_range = 40,\n",
        "                                   width_shift_range = 0.2,\n",
        "                                   height_shift_range = 0.2,\n",
        "                                   shear_range = 0.2,\n",
        "                                   zoom_range = 0.2,\n",
        "                                   horizontal_flip = True)\n",
        "\n",
        "# Note that the validation data should not be augmented!\n",
        "test_datagen = ImageDataGenerator( rescale = 1.0/255. )\n",
        "\n",
        "# Flow training images in batches of 20 using train_datagen generator\n",
        "train_generator = train_datagen.flow_from_directory(train_dir,\n",
        "                                                    batch_size = 20,\n",
        "                                                    class_mode = 'binary', \n",
        "                                                    target_size = (150, 150))     \n",
        "\n",
        "# Flow validation images in batches of 20 using test_datagen generator\n",
        "validation_generator =  test_datagen.flow_from_directory( validation_dir,\n",
        "                                                          batch_size  = 20,\n",
        "                                                          class_mode  = 'binary', \n",
        "                                                          target_size = (150, 150))"
      ],
      "execution_count": 5,
      "outputs": [
        {
          "output_type": "stream",
          "name": "stdout",
          "text": [
            "Downloading...\n",
            "From: https://drive.google.com/uc?id=1RL0T7Rg4XqQNRCkjfnLo4goOJQ7XZro9\n",
            "To: /content/cats_and_dogs_filtered.zip\n",
            "68.6MB [00:00, 165MB/s]\n",
            "Found 2000 images belonging to 2 classes.\n",
            "Found 1000 images belonging to 2 classes.\n"
          ]
        }
      ]
    },
    {
      "cell_type": "code",
      "metadata": {
        "id": "Blhq2MAUeyGA",
        "outputId": "11ad903e-c6e0-423b-96ff-c7429d636538",
        "colab": {
          "base_uri": "https://localhost:8080/"
        }
      },
      "source": [
        "history = model.fit(\n",
        "            train_generator,\n",
        "            validation_data = validation_generator,\n",
        "            steps_per_epoch = 100,\n",
        "            epochs = 20,\n",
        "            validation_steps = 50,\n",
        "            verbose = 2)"
      ],
      "execution_count": 6,
      "outputs": [
        {
          "output_type": "stream",
          "name": "stdout",
          "text": [
            "Epoch 1/20\n",
            "100/100 - 57s - loss: 0.3494 - accuracy: 0.8590 - val_loss: 0.1148 - val_accuracy: 0.9560\n",
            "Epoch 2/20\n",
            "100/100 - 21s - loss: 0.2478 - accuracy: 0.9040 - val_loss: 0.0944 - val_accuracy: 0.9660\n",
            "Epoch 3/20\n",
            "100/100 - 21s - loss: 0.2040 - accuracy: 0.9265 - val_loss: 0.1034 - val_accuracy: 0.9690\n",
            "Epoch 4/20\n",
            "100/100 - 21s - loss: 0.2060 - accuracy: 0.9235 - val_loss: 0.1123 - val_accuracy: 0.9600\n",
            "Epoch 5/20\n",
            "100/100 - 21s - loss: 0.1842 - accuracy: 0.9290 - val_loss: 0.1107 - val_accuracy: 0.9570\n",
            "Epoch 6/20\n",
            "100/100 - 21s - loss: 0.1581 - accuracy: 0.9390 - val_loss: 0.1285 - val_accuracy: 0.9610\n",
            "Epoch 7/20\n",
            "100/100 - 21s - loss: 0.1713 - accuracy: 0.9400 - val_loss: 0.1202 - val_accuracy: 0.9610\n",
            "Epoch 8/20\n",
            "100/100 - 22s - loss: 0.1674 - accuracy: 0.9425 - val_loss: 0.1772 - val_accuracy: 0.9500\n",
            "Epoch 9/20\n",
            "100/100 - 21s - loss: 0.1609 - accuracy: 0.9440 - val_loss: 0.1125 - val_accuracy: 0.9650\n",
            "Epoch 10/20\n",
            "100/100 - 21s - loss: 0.1415 - accuracy: 0.9540 - val_loss: 0.1221 - val_accuracy: 0.9660\n",
            "Epoch 11/20\n",
            "100/100 - 21s - loss: 0.1552 - accuracy: 0.9455 - val_loss: 0.1448 - val_accuracy: 0.9640\n",
            "Epoch 12/20\n",
            "100/100 - 21s - loss: 0.1497 - accuracy: 0.9490 - val_loss: 0.1401 - val_accuracy: 0.9700\n",
            "Epoch 13/20\n",
            "100/100 - 21s - loss: 0.1584 - accuracy: 0.9465 - val_loss: 0.1473 - val_accuracy: 0.9640\n",
            "Epoch 14/20\n",
            "100/100 - 21s - loss: 0.1288 - accuracy: 0.9515 - val_loss: 0.1448 - val_accuracy: 0.9690\n",
            "Epoch 15/20\n",
            "100/100 - 22s - loss: 0.1493 - accuracy: 0.9535 - val_loss: 0.1626 - val_accuracy: 0.9620\n",
            "Epoch 16/20\n",
            "100/100 - 21s - loss: 0.1168 - accuracy: 0.9625 - val_loss: 0.1444 - val_accuracy: 0.9660\n",
            "Epoch 17/20\n",
            "100/100 - 21s - loss: 0.1508 - accuracy: 0.9510 - val_loss: 0.1472 - val_accuracy: 0.9700\n",
            "Epoch 18/20\n",
            "100/100 - 21s - loss: 0.1552 - accuracy: 0.9480 - val_loss: 0.1204 - val_accuracy: 0.9670\n",
            "Epoch 19/20\n",
            "100/100 - 22s - loss: 0.1440 - accuracy: 0.9525 - val_loss: 0.1369 - val_accuracy: 0.9640\n",
            "Epoch 20/20\n",
            "100/100 - 21s - loss: 0.1101 - accuracy: 0.9615 - val_loss: 0.1222 - val_accuracy: 0.9660\n"
          ]
        }
      ]
    },
    {
      "cell_type": "code",
      "metadata": {
        "id": "C2Fp6Se9rKuL",
        "outputId": "55218bb3-316b-408b-c751-af8e7a91636c",
        "colab": {
          "base_uri": "https://localhost:8080/",
          "height": 299
        }
      },
      "source": [
        "import matplotlib.pyplot as plt\n",
        "acc = history.history['accuracy']\n",
        "val_acc = history.history['val_accuracy']\n",
        "loss = history.history['loss']\n",
        "val_loss = history.history['val_loss']\n",
        "\n",
        "epochs = range(len(acc))\n",
        "\n",
        "plt.plot(epochs, acc, 'r', label='Training accuracy')\n",
        "plt.plot(epochs, val_acc, 'b', label='Validation accuracy')\n",
        "plt.title('Training and validation accuracy')\n",
        "plt.legend(loc=0)\n",
        "plt.figure()\n",
        "\n",
        "\n",
        "plt.show()\n",
        "# train은 90%, valid는 97%로 overfitting을 피한 좋은 상태"
      ],
      "execution_count": 7,
      "outputs": [
        {
          "output_type": "display_data",
          "data": {
            "image/png": "[encoded data removed]",
            "text/plain": [
              "<Figure size 432x288 with 1 Axes>"
            ]
          },
          "metadata": {
            "needs_background": "light"
          }
        },
        {
          "output_type": "display_data",
          "data": {
            "text/plain": [
              "<Figure size 432x288 with 0 Axes>"
            ]
          },
          "metadata": {}
        }
      ]
    },
    {
      "cell_type": "code",
      "metadata": {
        "id": "S3yaVC5A4i4l"
      },
      "source": [
        ""
      ],
      "execution_count": 7,
      "outputs": []
    }
  ]
}