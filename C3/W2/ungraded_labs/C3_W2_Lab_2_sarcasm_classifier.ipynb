{
  "nbformat": 4,
  "nbformat_minor": 0,
  "metadata": {
    "accelerator": "GPU",
    "colab": {
      "name": "C3_W2_Lab_2_sarcasm_classifier.ipynb",
      "provenance": [],
      "collapsed_sections": [],
      "include_colab_link": true
    },
    "kernelspec": {
      "name": "python3",
      "display_name": "Python 3"
    },
    "language_info": {
      "name": "python"
    }
  },
  "cells": [
    {
      "cell_type": "markdown",
      "metadata": {
        "id": "view-in-github",
        "colab_type": "text"
      },
      "source": [
        "<a href=\"https://colab.research.google.com/github/lazybuttrying/TensorFlow-Certificate/blob/main/C3/W2/ungraded_labs/C3_W2_Lab_2_sarcasm_classifier.ipynb\" target=\"_parent\"><img src=\"https://colab.research.google.com/assets/colab-badge.svg\" alt=\"Open In Colab\"/></a>"
      ]
    },
    {
      "cell_type": "code",
      "metadata": {
        "id": "zX4Kg8DUTKWO"
      },
      "source": [
        "#@title Licensed under the Apache License, Version 2.0 (the \"License\");\n",
        "# you may not use this file except in compliance with the License.\n",
        "# You may obtain a copy of the License at\n",
        "#\n",
        "# https://www.apache.org/licenses/LICENSE-2.0\n",
        "#\n",
        "# Unless required by applicable law or agreed to in writing, software\n",
        "# distributed under the License is distributed on an \"AS IS\" BASIS,\n",
        "# WITHOUT WARRANTIES OR CONDITIONS OF ANY KIND, either express or implied.\n",
        "# See the License for the specific language governing permissions and\n",
        "# limitations under the License."
      ],
      "execution_count": null,
      "outputs": []
    },
    {
      "cell_type": "markdown",
      "metadata": {
        "id": "DblSKtgISM2d"
      },
      "source": [
        "**Note:** This notebook can run using TensorFlow 2.5.0"
      ]
    },
    {
      "cell_type": "code",
      "metadata": {
        "id": "4gs9htvM7n_x"
      },
      "source": [
        "#!pip install tensorflow==2.5.0"
      ],
      "execution_count": null,
      "outputs": []
    },
    {
      "cell_type": "code",
      "metadata": {
        "id": "XYYDvoskkE61"
      },
      "source": [
        "import json\n",
        "import tensorflow as tf\n",
        "\n",
        "from tensorflow.keras.preprocessing.text import Tokenizer\n",
        "from tensorflow.keras.preprocessing.sequence import pad_sequences"
      ],
      "execution_count": 1,
      "outputs": []
    },
    {
      "cell_type": "code",
      "metadata": {
        "id": "0eJSTTYnkJQd"
      },
      "source": [
        "vocab_size = 10000\n",
        "embedding_dim = 16\n",
        "max_length = 100\n",
        "trunc_type='post'\n",
        "padding_type='post'\n",
        "oov_tok = \"<OOV>\"\n",
        "training_size = 20000\n"
      ],
      "execution_count": 2,
      "outputs": []
    },
    {
      "cell_type": "code",
      "metadata": {
        "id": "BQVuQrZNkPn9",
        "outputId": "4e8b7582-fe4d-447a-9d11-780ace46f75b",
        "colab": {
          "base_uri": "https://localhost:8080/"
        }
      },
      "source": [
        "# sarcasm.json\n",
        "!gdown --id 1xRU3xY5-tkiPGvlz5xBJ18_pHWSRzI4v"
      ],
      "execution_count": 3,
      "outputs": [
        {
          "output_type": "stream",
          "name": "stdout",
          "text": [
            "Downloading...\n",
            "From: https://drive.google.com/uc?id=1xRU3xY5-tkiPGvlz5xBJ18_pHWSRzI4v\n",
            "To: /content/sarcasm.json\n",
            "\r0.00B [00:00, ?B/s]\r5.64MB [00:00, 86.5MB/s]\n"
          ]
        }
      ]
    },
    {
      "cell_type": "code",
      "metadata": {
        "id": "oaLaaqhNkUPd"
      },
      "source": [
        "with open(\"./sarcasm.json\", 'r') as f:\n",
        "    datastore = json.load(f)\n",
        "\n",
        "sentences = []\n",
        "labels = []\n",
        "\n",
        "for item in datastore:\n",
        "    sentences.append(item['headline'])\n",
        "    labels.append(item['is_sarcastic'])"
      ],
      "execution_count": 4,
      "outputs": []
    },
    {
      "cell_type": "code",
      "metadata": {
        "id": "S1sD-7v0kYWk"
      },
      "source": [
        "training_sentences = sentences[0:training_size]\n",
        "testing_sentences = sentences[training_size:]\n",
        "training_labels = labels[0:training_size]\n",
        "testing_labels = labels[training_size:]"
      ],
      "execution_count": 5,
      "outputs": []
    },
    {
      "cell_type": "code",
      "metadata": {
        "id": "3u8UB0MCkZ5N"
      },
      "source": [
        "tokenizer = Tokenizer(num_words=vocab_size, oov_token=oov_tok)\n",
        "tokenizer.fit_on_texts(training_sentences)\n",
        "\n",
        "word_index = tokenizer.word_index\n",
        "\n",
        "training_sequences = tokenizer.texts_to_sequences(training_sentences)\n",
        "training_padded = pad_sequences(training_sequences, maxlen=max_length, padding=padding_type, truncating=trunc_type)\n",
        "\n",
        "testing_sequences = tokenizer.texts_to_sequences(testing_sentences)\n",
        "testing_padded = pad_sequences(testing_sequences, maxlen=max_length, padding=padding_type, truncating=trunc_type)"
      ],
      "execution_count": 6,
      "outputs": []
    },
    {
      "cell_type": "code",
      "metadata": {
        "id": "GrAlWBKf99Ya"
      },
      "source": [
        "# Need this block to get it to work with TensorFlow 2.x\n",
        "import numpy as np\n",
        "training_padded = np.array(training_padded)\n",
        "training_labels = np.array(training_labels)\n",
        "testing_padded = np.array(testing_padded)\n",
        "testing_labels = np.array(testing_labels)"
      ],
      "execution_count": 7,
      "outputs": []
    },
    {
      "cell_type": "code",
      "metadata": {
        "id": "FufaT4vlkiDE"
      },
      "source": [
        "model = tf.keras.Sequential([\n",
        "    tf.keras.layers.Embedding(vocab_size, embedding_dim, input_length=max_length),\n",
        "    tf.keras.layers.GlobalAveragePooling1D(),\n",
        "    tf.keras.layers.Dense(24, activation='relu'),\n",
        "    tf.keras.layers.Dense(1, activation='sigmoid')\n",
        "])\n",
        "model.compile(loss='binary_crossentropy',optimizer='adam',metrics=['accuracy'])"
      ],
      "execution_count": 8,
      "outputs": []
    },
    {
      "cell_type": "code",
      "metadata": {
        "id": "XfDt1hmYkiys",
        "outputId": "4e1a22ab-ca6f-42fe-f333-1652ba5730d7",
        "colab": {
          "base_uri": "https://localhost:8080/"
        }
      },
      "source": [
        "model.summary()\n"
      ],
      "execution_count": 9,
      "outputs": [
        {
          "output_type": "stream",
          "name": "stdout",
          "text": [
            "Model: \"sequential\"\n",
            "_________________________________________________________________\n",
            "Layer (type)                 Output Shape              Param #   \n",
            "=================================================================\n",
            "embedding (Embedding)        (None, 100, 16)           160000    \n",
            "_________________________________________________________________\n",
            "global_average_pooling1d (Gl (None, 16)                0         \n",
            "_________________________________________________________________\n",
            "dense (Dense)                (None, 24)                408       \n",
            "_________________________________________________________________\n",
            "dense_1 (Dense)              (None, 1)                 25        \n",
            "=================================================================\n",
            "Total params: 160,433\n",
            "Trainable params: 160,433\n",
            "Non-trainable params: 0\n",
            "_________________________________________________________________\n"
          ]
        }
      ]
    },
    {
      "cell_type": "code",
      "metadata": {
        "id": "2DTKQFf1kkyc",
        "outputId": "1f19f84a-71ab-494e-eb1b-e840fafbf7e6",
        "colab": {
          "base_uri": "https://localhost:8080/"
        }
      },
      "source": [
        "num_epochs = 30\n",
        "history = model.fit(training_padded,\n",
        "                    training_labels, \n",
        "                    epochs=num_epochs, \n",
        "                    validation_data=(testing_padded, testing_labels), \n",
        "                    verbose=2)"
      ],
      "execution_count": 10,
      "outputs": [
        {
          "output_type": "stream",
          "name": "stdout",
          "text": [
            "Epoch 1/30\n",
            "625/625 - 6s - loss: 0.6681 - accuracy: 0.5832 - val_loss: 0.5855 - val_accuracy: 0.7424\n",
            "Epoch 2/30\n",
            "625/625 - 3s - loss: 0.4348 - accuracy: 0.8257 - val_loss: 0.3874 - val_accuracy: 0.8378\n",
            "Epoch 3/30\n",
            "625/625 - 3s - loss: 0.3138 - accuracy: 0.8766 - val_loss: 0.3762 - val_accuracy: 0.8310\n",
            "Epoch 4/30\n",
            "625/625 - 3s - loss: 0.2637 - accuracy: 0.8982 - val_loss: 0.3445 - val_accuracy: 0.8577\n",
            "Epoch 5/30\n",
            "625/625 - 3s - loss: 0.2288 - accuracy: 0.9101 - val_loss: 0.3494 - val_accuracy: 0.8536\n",
            "Epoch 6/30\n",
            "625/625 - 3s - loss: 0.2020 - accuracy: 0.9245 - val_loss: 0.3500 - val_accuracy: 0.8527\n",
            "Epoch 7/30\n",
            "625/625 - 3s - loss: 0.1788 - accuracy: 0.9333 - val_loss: 0.3603 - val_accuracy: 0.8535\n",
            "Epoch 8/30\n",
            "625/625 - 3s - loss: 0.1610 - accuracy: 0.9403 - val_loss: 0.3716 - val_accuracy: 0.8542\n",
            "Epoch 9/30\n",
            "625/625 - 3s - loss: 0.1450 - accuracy: 0.9481 - val_loss: 0.3989 - val_accuracy: 0.8456\n",
            "Epoch 10/30\n",
            "625/625 - 2s - loss: 0.1313 - accuracy: 0.9534 - val_loss: 0.4119 - val_accuracy: 0.8483\n",
            "Epoch 11/30\n",
            "625/625 - 3s - loss: 0.1215 - accuracy: 0.9566 - val_loss: 0.4434 - val_accuracy: 0.8402\n",
            "Epoch 12/30\n",
            "625/625 - 3s - loss: 0.1094 - accuracy: 0.9620 - val_loss: 0.4475 - val_accuracy: 0.8471\n",
            "Epoch 13/30\n",
            "625/625 - 3s - loss: 0.0990 - accuracy: 0.9673 - val_loss: 0.5069 - val_accuracy: 0.8325\n",
            "Epoch 14/30\n",
            "625/625 - 3s - loss: 0.0930 - accuracy: 0.9693 - val_loss: 0.5076 - val_accuracy: 0.8378\n",
            "Epoch 15/30\n",
            "625/625 - 3s - loss: 0.0861 - accuracy: 0.9718 - val_loss: 0.5243 - val_accuracy: 0.8383\n",
            "Epoch 16/30\n",
            "625/625 - 3s - loss: 0.0782 - accuracy: 0.9754 - val_loss: 0.5544 - val_accuracy: 0.8357\n",
            "Epoch 17/30\n",
            "625/625 - 3s - loss: 0.0718 - accuracy: 0.9775 - val_loss: 0.5820 - val_accuracy: 0.8344\n",
            "Epoch 18/30\n",
            "625/625 - 2s - loss: 0.0658 - accuracy: 0.9787 - val_loss: 0.6218 - val_accuracy: 0.8316\n",
            "Epoch 19/30\n",
            "625/625 - 3s - loss: 0.0608 - accuracy: 0.9810 - val_loss: 0.6532 - val_accuracy: 0.8284\n",
            "Epoch 20/30\n",
            "625/625 - 2s - loss: 0.0551 - accuracy: 0.9830 - val_loss: 0.6816 - val_accuracy: 0.8268\n",
            "Epoch 21/30\n",
            "625/625 - 3s - loss: 0.0515 - accuracy: 0.9851 - val_loss: 0.7207 - val_accuracy: 0.8258\n",
            "Epoch 22/30\n",
            "625/625 - 3s - loss: 0.0484 - accuracy: 0.9854 - val_loss: 0.7607 - val_accuracy: 0.8231\n",
            "Epoch 23/30\n",
            "625/625 - 3s - loss: 0.0434 - accuracy: 0.9870 - val_loss: 0.7931 - val_accuracy: 0.8214\n",
            "Epoch 24/30\n",
            "625/625 - 3s - loss: 0.0403 - accuracy: 0.9887 - val_loss: 0.8409 - val_accuracy: 0.8188\n",
            "Epoch 25/30\n",
            "625/625 - 3s - loss: 0.0381 - accuracy: 0.9886 - val_loss: 0.8831 - val_accuracy: 0.8182\n",
            "Epoch 26/30\n",
            "625/625 - 3s - loss: 0.0348 - accuracy: 0.9898 - val_loss: 0.9240 - val_accuracy: 0.8164\n",
            "Epoch 27/30\n",
            "625/625 - 3s - loss: 0.0327 - accuracy: 0.9907 - val_loss: 0.9375 - val_accuracy: 0.8183\n",
            "Epoch 28/30\n",
            "625/625 - 3s - loss: 0.0296 - accuracy: 0.9915 - val_loss: 0.9725 - val_accuracy: 0.8155\n",
            "Epoch 29/30\n",
            "625/625 - 3s - loss: 0.0265 - accuracy: 0.9926 - val_loss: 1.0138 - val_accuracy: 0.8149\n",
            "Epoch 30/30\n",
            "625/625 - 3s - loss: 0.0271 - accuracy: 0.9929 - val_loss: 1.0633 - val_accuracy: 0.8149\n"
          ]
        }
      ]
    },
    {
      "cell_type": "code",
      "metadata": {
        "id": "2HYfBKXjkmU8",
        "outputId": "524ca0e5-0c52-4242-9deb-a9aa183970ff",
        "colab": {
          "base_uri": "https://localhost:8080/",
          "height": 541
        }
      },
      "source": [
        "import matplotlib.pyplot as plt\n",
        "\n",
        "# plot the result\n",
        "\n",
        "def plot_graphs(history, string):\n",
        "  plt.plot(history.history[string])\n",
        "  plt.plot(history.history['val_'+string])\n",
        "  plt.xlabel(\"Epochs\")\n",
        "  plt.ylabel(string)\n",
        "  plt.legend([string, 'val_'+string])\n",
        "  plt.show()\n",
        "  \n",
        "plot_graphs(history, \"accuracy\")\n",
        "plot_graphs(history, \"loss\")\n",
        "\n",
        "# validation loss가 이후에 증가하는 안 좋은 모습을 보임"
      ],
      "execution_count": 11,
      "outputs": [
        {
          "output_type": "display_data",
          "data": {
            "image/png": "[encoded data removed]",
            "text/plain": [
              "<Figure size 432x288 with 1 Axes>"
            ]
          },
          "metadata": {
            "needs_background": "light"
          }
        },
        {
          "output_type": "display_data",
          "data": {
            "image/png": "[encoded data removed]",
            "text/plain": [
              "<Figure size 432x288 with 1 Axes>"
            ]
          },
          "metadata": {
            "needs_background": "light"
          }
        }
      ]
    },
    {
      "cell_type": "markdown",
      "metadata": {
        "id": "fREd4spnG1RT"
      },
      "source": [
        "### Let’s talk about the loss function\n",
        "\n",
        "시간이 지남에 따라 정확한 예측은 증가하지만, 예측 당 신뢰도는 감소함.\n",
        "\n",
        "이는 계속 주시하며 봐야하며 아래 내용을 그 방법을 소개.\n",
        "\n",
        "1. 변경 사항에 대해 확인하기\n",
        "  - vocabulary의 크기, 조금 더 짧은 문장 쓰기, padding을 줄이기 를 한 뒤 다시 실행"
      ]
    },
    {
      "cell_type": "code",
      "metadata": {
        "id": "MdqUPZe6HqBJ",
        "outputId": "45e112ca-be99-4e10-8130-3f614042b9df",
        "colab": {
          "base_uri": "https://localhost:8080/",
          "height": 1000
        }
      },
      "source": [
        "vocab_size = 1000  # 10000->1000\n",
        "embedding_dim = 32 # 16->32\n",
        "max_length = 16   # 32->16\n",
        "trunc_type='post'\n",
        "padding_type='post'\n",
        "oov_tok = \"<OOV>\"\n",
        "training_size = 20000\n",
        "\n",
        "training_sentences = sentences[0:training_size]\n",
        "testing_sentences = sentences[training_size:]\n",
        "training_labels = labels[0:training_size]\n",
        "testing_labels = labels[training_size:]\n",
        "\n",
        "tokenizer = Tokenizer(num_words=vocab_size, oov_token=oov_tok)\n",
        "tokenizer.fit_on_texts(training_sentences)\n",
        "\n",
        "word_index = tokenizer.word_index\n",
        "\n",
        "training_sequences = tokenizer.texts_to_sequences(training_sentences)\n",
        "training_padded = pad_sequences(training_sequences, maxlen=max_length, padding=padding_type, truncating=trunc_type)\n",
        "\n",
        "testing_sequences = tokenizer.texts_to_sequences(testing_sentences)\n",
        "testing_padded = pad_sequences(testing_sequences, maxlen=max_length, padding=padding_type, truncating=trunc_type)\n",
        "\n",
        "\n",
        "# Need this block to get it to work with TensorFlow 2.x\n",
        "import numpy as np\n",
        "training_padded = np.array(training_padded)\n",
        "training_labels = np.array(training_labels)\n",
        "testing_padded = np.array(testing_padded)\n",
        "testing_labels = np.array(testing_labels)\n",
        "\n",
        "model = tf.keras.Sequential([\n",
        "    tf.keras.layers.Embedding(vocab_size, embedding_dim, input_length=max_length),\n",
        "    tf.keras.layers.GlobalAveragePooling1D(),\n",
        "    tf.keras.layers.Dense(24, activation='relu'),\n",
        "    tf.keras.layers.Dense(1, activation='sigmoid')\n",
        "])\n",
        "model.compile(loss='binary_crossentropy',optimizer='adam',metrics=['accuracy'])\n",
        "\n",
        "num_epochs = 30\n",
        "history = model.fit(training_padded,\n",
        "                    training_labels, \n",
        "                    epochs=num_epochs, \n",
        "                    validation_data=(testing_padded, testing_labels), \n",
        "                    verbose=2)\n",
        "\n",
        "import matplotlib.pyplot as plt\n",
        "\n",
        "# plot the result\n",
        "\n",
        "def plot_graphs(history, string):\n",
        "  plt.plot(history.history[string])\n",
        "  plt.plot(history.history['val_'+string])\n",
        "  plt.xlabel(\"Epochs\")\n",
        "  plt.ylabel(string)\n",
        "  plt.legend([string, 'val_'+string])\n",
        "  plt.show()\n",
        "  \n",
        "plot_graphs(history, \"accuracy\")\n",
        "plot_graphs(history, \"loss\")\n",
        "\n",
        "# validation loss가 증가하진 않게 됨"
      ],
      "execution_count": 18,
      "outputs": [
        {
          "output_type": "stream",
          "name": "stdout",
          "text": [
            "Epoch 1/30\n",
            "625/625 - 3s - loss: 0.5035 - accuracy: 0.7476 - val_loss: 0.4067 - val_accuracy: 0.8126\n",
            "Epoch 2/30\n",
            "625/625 - 2s - loss: 0.3765 - accuracy: 0.8253 - val_loss: 0.3978 - val_accuracy: 0.8183\n",
            "Epoch 3/30\n",
            "625/625 - 2s - loss: 0.3629 - accuracy: 0.8350 - val_loss: 0.3998 - val_accuracy: 0.8150\n",
            "Epoch 4/30\n",
            "625/625 - 2s - loss: 0.3587 - accuracy: 0.8352 - val_loss: 0.4047 - val_accuracy: 0.8147\n",
            "Epoch 5/30\n",
            "625/625 - 2s - loss: 0.3558 - accuracy: 0.8378 - val_loss: 0.4024 - val_accuracy: 0.8131\n",
            "Epoch 6/30\n",
            "625/625 - 2s - loss: 0.3541 - accuracy: 0.8389 - val_loss: 0.4018 - val_accuracy: 0.8119\n",
            "Epoch 7/30\n",
            "625/625 - 2s - loss: 0.3514 - accuracy: 0.8389 - val_loss: 0.4021 - val_accuracy: 0.8146\n",
            "Epoch 8/30\n",
            "625/625 - 2s - loss: 0.3504 - accuracy: 0.8409 - val_loss: 0.4019 - val_accuracy: 0.8156\n",
            "Epoch 9/30\n",
            "625/625 - 2s - loss: 0.3454 - accuracy: 0.8431 - val_loss: 0.3988 - val_accuracy: 0.8123\n",
            "Epoch 10/30\n",
            "625/625 - 2s - loss: 0.3410 - accuracy: 0.8444 - val_loss: 0.4028 - val_accuracy: 0.8125\n",
            "Epoch 11/30\n",
            "625/625 - 2s - loss: 0.3376 - accuracy: 0.8468 - val_loss: 0.3947 - val_accuracy: 0.8199\n",
            "Epoch 12/30\n",
            "625/625 - 2s - loss: 0.3343 - accuracy: 0.8488 - val_loss: 0.3954 - val_accuracy: 0.8225\n",
            "Epoch 13/30\n",
            "625/625 - 2s - loss: 0.3314 - accuracy: 0.8504 - val_loss: 0.4008 - val_accuracy: 0.8192\n",
            "Epoch 14/30\n",
            "625/625 - 2s - loss: 0.3284 - accuracy: 0.8537 - val_loss: 0.3949 - val_accuracy: 0.8202\n",
            "Epoch 15/30\n",
            "625/625 - 2s - loss: 0.3252 - accuracy: 0.8555 - val_loss: 0.3957 - val_accuracy: 0.8216\n",
            "Epoch 16/30\n",
            "625/625 - 2s - loss: 0.3223 - accuracy: 0.8564 - val_loss: 0.3963 - val_accuracy: 0.8207\n",
            "Epoch 17/30\n",
            "625/625 - 2s - loss: 0.3197 - accuracy: 0.8579 - val_loss: 0.3964 - val_accuracy: 0.8193\n",
            "Epoch 18/30\n",
            "625/625 - 2s - loss: 0.3175 - accuracy: 0.8595 - val_loss: 0.3977 - val_accuracy: 0.8207\n",
            "Epoch 19/30\n",
            "625/625 - 2s - loss: 0.3151 - accuracy: 0.8605 - val_loss: 0.4046 - val_accuracy: 0.8210\n",
            "Epoch 20/30\n",
            "625/625 - 2s - loss: 0.3138 - accuracy: 0.8609 - val_loss: 0.4023 - val_accuracy: 0.8195\n",
            "Epoch 21/30\n",
            "625/625 - 2s - loss: 0.3115 - accuracy: 0.8633 - val_loss: 0.4020 - val_accuracy: 0.8185\n",
            "Epoch 22/30\n",
            "625/625 - 2s - loss: 0.3095 - accuracy: 0.8622 - val_loss: 0.4074 - val_accuracy: 0.8153\n",
            "Epoch 23/30\n",
            "625/625 - 2s - loss: 0.3079 - accuracy: 0.8644 - val_loss: 0.4065 - val_accuracy: 0.8168\n",
            "Epoch 24/30\n",
            "625/625 - 2s - loss: 0.3051 - accuracy: 0.8648 - val_loss: 0.4093 - val_accuracy: 0.8185\n",
            "Epoch 25/30\n",
            "625/625 - 2s - loss: 0.3035 - accuracy: 0.8640 - val_loss: 0.4130 - val_accuracy: 0.8159\n",
            "Epoch 26/30\n",
            "625/625 - 2s - loss: 0.3017 - accuracy: 0.8659 - val_loss: 0.4132 - val_accuracy: 0.8158\n",
            "Epoch 27/30\n",
            "625/625 - 2s - loss: 0.2990 - accuracy: 0.8665 - val_loss: 0.4160 - val_accuracy: 0.8126\n",
            "Epoch 28/30\n",
            "625/625 - 2s - loss: 0.2965 - accuracy: 0.8687 - val_loss: 0.4163 - val_accuracy: 0.8137\n",
            "Epoch 29/30\n",
            "625/625 - 2s - loss: 0.2945 - accuracy: 0.8688 - val_loss: 0.4167 - val_accuracy: 0.8165\n",
            "Epoch 30/30\n",
            "625/625 - 2s - loss: 0.2927 - accuracy: 0.8694 - val_loss: 0.4184 - val_accuracy: 0.8126\n"
          ]
        },
        {
          "output_type": "display_data",
          "data": {
            "image/png": "[encoded data removed]",
            "text/plain": [
              "<Figure size 432x288 with 1 Axes>"
            ]
          },
          "metadata": {
            "needs_background": "light"
          }
        },
        {
          "output_type": "display_data",
          "data": {
            "image/png": "[encoded data removed]",
            "text/plain": [
              "<Figure size 432x288 with 1 Axes>"
            ]
          },
          "metadata": {
            "needs_background": "light"
          }
        }
      ]
    },
    {
      "cell_type": "code",
      "metadata": {
        "id": "7SBdAZAenvzL",
        "outputId": "af256335-c800-44a2-e045-16b5d923e7ba",
        "colab": {
          "base_uri": "https://localhost:8080/"
        }
      },
      "source": [
        "reverse_word_index = dict([(value, key) for (key, value) in word_index.items()])\n",
        "\n",
        "def decode_sentence(text):\n",
        "    return ' '.join([reverse_word_index.get(i, '?') for i in text])\n",
        "\n",
        "print(decode_sentence(training_padded[0]))\n",
        "print(training_sentences[2])\n",
        "print(labels[2])"
      ],
      "execution_count": 12,
      "outputs": [
        {
          "output_type": "stream",
          "name": "stdout",
          "text": [
            "former <OOV> store clerk sues over secret 'black <OOV> for minority shoppers ? ? ? ? ? ? ? ? ? ? ? ? ? ? ? ? ? ? ? ? ? ? ? ? ? ? ? ? ? ? ? ? ? ? ? ? ? ? ? ? ? ? ? ? ? ? ? ? ? ? ? ? ? ? ? ? ? ? ? ? ? ? ? ? ? ? ? ? ? ? ? ? ? ? ? ? ? ? ? ? ? ? ? ? ? ? ? ?\n",
            "mom starting to fear son's web series closest thing she will have to grandchild\n",
            "1\n"
          ]
        }
      ]
    },
    {
      "cell_type": "code",
      "metadata": {
        "id": "c9MqihtEkzQ9",
        "outputId": "c5e733ea-5735-40c5-edf3-b4e30a5eb325",
        "colab": {
          "base_uri": "https://localhost:8080/"
        }
      },
      "source": [
        "e = model.layers[0]\n",
        "weights = e.get_weights()[0]\n",
        "print(weights.shape) # shape: (vocab_size, embedding_dim)\n"
      ],
      "execution_count": 13,
      "outputs": [
        {
          "output_type": "stream",
          "name": "stdout",
          "text": [
            "(10000, 16)\n"
          ]
        }
      ]
    },
    {
      "cell_type": "code",
      "metadata": {
        "id": "LoBXVffknldU"
      },
      "source": [
        "import io\n",
        "\n",
        "out_v = io.open('vecs.tsv', 'w', encoding='utf-8')\n",
        "out_m = io.open('meta.tsv', 'w', encoding='utf-8')\n",
        "for word_num in range(1, vocab_size):\n",
        "  word = reverse_word_index[word_num]\n",
        "  embeddings = weights[word_num]\n",
        "  out_m.write(word + \"\\n\")\n",
        "  out_v.write('\\t'.join([str(x) for x in embeddings]) + \"\\n\")\n",
        "out_v.close()\n",
        "out_m.close()"
      ],
      "execution_count": 14,
      "outputs": []
    },
    {
      "cell_type": "code",
      "metadata": {
        "id": "U4eZ5HtVnnEE",
        "outputId": "c7a07402-f34f-44c4-ebf0-ad5be60e1fd9",
        "colab": {
          "base_uri": "https://localhost:8080/",
          "height": 17
        }
      },
      "source": [
        "try:\n",
        "  from google.colab import files\n",
        "except ImportError:\n",
        "  pass\n",
        "else:\n",
        "  files.download('vecs.tsv')\n",
        "  files.download('meta.tsv')"
      ],
      "execution_count": 15,
      "outputs": [
        {
          "output_type": "display_data",
          "data": {
            "application/javascript": [
              "\n",
              "    async function download(id, filename, size) {\n",
              "      if (!google.colab.kernel.accessAllowed) {\n",
              "        return;\n",
              "      }\n",
              "      const div = document.createElement('div');\n",
              "      const label = document.createElement('label');\n",
              "      label.textContent = `Downloading \"${filename}\": `;\n",
              "      div.appendChild(label);\n",
              "      const progress = document.createElement('progress');\n",
              "      progress.max = size;\n",
              "      div.appendChild(progress);\n",
              "      document.body.appendChild(div);\n",
              "\n",
              "      const buffers = [];\n",
              "      let downloaded = 0;\n",
              "\n",
              "      const channel = await google.colab.kernel.comms.open(id);\n",
              "      // Send a message to notify the kernel that we're ready.\n",
              "      channel.send({})\n",
              "\n",
              "      for await (const message of channel.messages) {\n",
              "        // Send a message to notify the kernel that we're ready.\n",
              "        channel.send({})\n",
              "        if (message.buffers) {\n",
              "          for (const buffer of message.buffers) {\n",
              "            buffers.push(buffer);\n",
              "            downloaded += buffer.byteLength;\n",
              "            progress.value = downloaded;\n",
              "          }\n",
              "        }\n",
              "      }\n",
              "      const blob = new Blob(buffers, {type: 'application/binary'});\n",
              "      const a = document.createElement('a');\n",
              "      a.href = window.URL.createObjectURL(blob);\n",
              "      a.download = filename;\n",
              "      div.appendChild(a);\n",
              "      a.click();\n",
              "      div.remove();\n",
              "    }\n",
              "  "
            ],
            "text/plain": [
              "<IPython.core.display.Javascript object>"
            ]
          },
          "metadata": {}
        },
        {
          "output_type": "display_data",
          "data": {
            "application/javascript": [
              "download(\"download_f11869f4-ed2f-4369-976c-f4e6a6078a65\", \"vecs.tsv\", 1810827)"
            ],
            "text/plain": [
              "<IPython.core.display.Javascript object>"
            ]
          },
          "metadata": {}
        },
        {
          "output_type": "display_data",
          "data": {
            "application/javascript": [
              "\n",
              "    async function download(id, filename, size) {\n",
              "      if (!google.colab.kernel.accessAllowed) {\n",
              "        return;\n",
              "      }\n",
              "      const div = document.createElement('div');\n",
              "      const label = document.createElement('label');\n",
              "      label.textContent = `Downloading \"${filename}\": `;\n",
              "      div.appendChild(label);\n",
              "      const progress = document.createElement('progress');\n",
              "      progress.max = size;\n",
              "      div.appendChild(progress);\n",
              "      document.body.appendChild(div);\n",
              "\n",
              "      const buffers = [];\n",
              "      let downloaded = 0;\n",
              "\n",
              "      const channel = await google.colab.kernel.comms.open(id);\n",
              "      // Send a message to notify the kernel that we're ready.\n",
              "      channel.send({})\n",
              "\n",
              "      for await (const message of channel.messages) {\n",
              "        // Send a message to notify the kernel that we're ready.\n",
              "        channel.send({})\n",
              "        if (message.buffers) {\n",
              "          for (const buffer of message.buffers) {\n",
              "            buffers.push(buffer);\n",
              "            downloaded += buffer.byteLength;\n",
              "            progress.value = downloaded;\n",
              "          }\n",
              "        }\n",
              "      }\n",
              "      const blob = new Blob(buffers, {type: 'application/binary'});\n",
              "      const a = document.createElement('a');\n",
              "      a.href = window.URL.createObjectURL(blob);\n",
              "      a.download = filename;\n",
              "      div.appendChild(a);\n",
              "      a.click();\n",
              "      div.remove();\n",
              "    }\n",
              "  "
            ],
            "text/plain": [
              "<IPython.core.display.Javascript object>"
            ]
          },
          "metadata": {}
        },
        {
          "output_type": "display_data",
          "data": {
            "application/javascript": [
              "download(\"download_ff15a803-83c0-4eb7-9897-87afbd89562f\", \"meta.tsv\", 75974)"
            ],
            "text/plain": [
              "<IPython.core.display.Javascript object>"
            ]
          },
          "metadata": {}
        }
      ]
    },
    {
      "cell_type": "code",
      "metadata": {
        "id": "cG8-ArY-qDcz",
        "outputId": "f4ed9e5d-e3b7-4720-d482-cc94ad80c9ea",
        "colab": {
          "base_uri": "https://localhost:8080/"
        }
      },
      "source": [
        "sentence = [\"granny starting to fear spiders in the garden might be real\", \"game of thrones season finale showing this sunday night\"]\n",
        "sequences = tokenizer.texts_to_sequences(sentence)\n",
        "padded = pad_sequences(sequences, maxlen=max_length, padding=padding_type, truncating=trunc_type)\n",
        "print(model.predict(padded))"
      ],
      "execution_count": 16,
      "outputs": [
        {
          "output_type": "stream",
          "name": "stdout",
          "text": [
            "[[9.035625e-01]\n",
            " [2.897345e-06]]\n"
          ]
        }
      ]
    },
    {
      "cell_type": "code",
      "metadata": {
        "id": "xPFObL3nSM2m"
      },
      "source": [
        ""
      ],
      "execution_count": null,
      "outputs": []
    }
  ]
}