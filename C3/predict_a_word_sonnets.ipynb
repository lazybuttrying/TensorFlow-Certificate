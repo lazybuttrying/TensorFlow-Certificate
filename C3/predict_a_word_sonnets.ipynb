{
  "nbformat": 4,
  "nbformat_minor": 0,
  "metadata": {
    "colab": {
      "name": "predict a word - sonnets.ipynb",
      "provenance": [],
      "collapsed_sections": [],
      "authorship_tag": "ABX9TyOCamE/lAFoc0yvuogJziGe",
      "include_colab_link": true
    },
    "kernelspec": {
      "name": "python3",
      "display_name": "Python 3"
    },
    "language_info": {
      "name": "python"
    }
  },
  "cells": [
    {
      "cell_type": "markdown",
      "metadata": {
        "id": "view-in-github",
        "colab_type": "text"
      },
      "source": [
        "<a href=\"https://colab.research.google.com/github/lazybuttrying/TensorFlow-Certificate/blob/main/C3/predict_a_word_sonnets.ipynb\" target=\"_parent\"><img src=\"https://colab.research.google.com/assets/colab-badge.svg\" alt=\"Open In Colab\"/></a>"
      ]
    },
    {
      "cell_type": "markdown",
      "metadata": {
        "id": "4by_pF15kYbu"
      },
      "source": [
        "# 🐱‍🏍 Import"
      ]
    },
    {
      "cell_type": "code",
      "metadata": {
        "id": "muXx_D9MkYyD"
      },
      "source": [
        "from tensorflow.keras.preprocessing.sequence import pad_sequences\n",
        "from tensorflow.keras.layers import Embedding, LSTM, Dense, Dropout, Bidirectional\n",
        "from tensorflow.keras.preprocessing.text import Tokenizer\n",
        "from tensorflow.keras.models import Sequential\n",
        "from tensorflow.keras.optimizers import Adam\n",
        "from tensorflow.keras import regularizers\n",
        "import tensorflow.keras.utils as ku \n",
        "import tensorflow as tf\n",
        "import numpy as np "
      ],
      "execution_count": 1,
      "outputs": []
    },
    {
      "cell_type": "markdown",
      "metadata": {
        "id": "Z9Y56FROkb59"
      },
      "source": [
        "# 📄 Prepare Dataset"
      ]
    },
    {
      "cell_type": "code",
      "metadata": {
        "colab": {
          "base_uri": "https://localhost:8080/"
        },
        "id": "M5mH8hTEkZy4",
        "outputId": "b7674443-4cb9-4049-cfab-fb2d4e5beac8"
      },
      "source": [
        "# sonnets.txt\n",
        "!gdown --id 108jAePKK4R3BVYBbYJZ32JWUwxeMg20K\n",
        "\n",
        "data = open('./sonnets.txt').read()\n",
        "\n",
        "corpus = data.lower().split(\"\\n\")"
      ],
      "execution_count": 2,
      "outputs": [
        {
          "output_type": "stream",
          "name": "stdout",
          "text": [
            "Downloading...\n",
            "From: https://drive.google.com/uc?id=108jAePKK4R3BVYBbYJZ32JWUwxeMg20K\n",
            "To: /content/sonnets.txt\n",
            "\r  0% 0.00/93.6k [00:00<?, ?B/s]\r100% 93.6k/93.6k [00:00<00:00, 20.3MB/s]\n"
          ]
        }
      ]
    },
    {
      "cell_type": "markdown",
      "metadata": {
        "id": "NodhJETFkmaJ"
      },
      "source": [
        "# ✂️ Tokenize"
      ]
    },
    {
      "cell_type": "code",
      "metadata": {
        "id": "Kdr-uAWPkegf"
      },
      "source": [
        "tokenizer = Tokenizer()\n",
        "tokenizer.fit_on_texts(corpus)\n",
        "total_words = len(tokenizer.word_index) + 1"
      ],
      "execution_count": 3,
      "outputs": []
    },
    {
      "cell_type": "markdown",
      "metadata": {
        "id": "sYH9NhrVlA2-"
      },
      "source": [
        "# 🐍 Change to Sequence"
      ]
    },
    {
      "cell_type": "code",
      "metadata": {
        "id": "SD5HB91wlB2-"
      },
      "source": [
        "# create input sequences using list of tokens\n",
        "input_sequences = []\n",
        "for line in corpus:\n",
        "\ttoken_list = tokenizer.texts_to_sequences([line])[0]\n",
        "\tfor i in range(1, len(token_list)):\n",
        "\t\tn_gram_sequence = token_list[:i+1]\n",
        "\t\tinput_sequences.append(n_gram_sequence)\n",
        "\n",
        "\n",
        "\n",
        "\n"
      ],
      "execution_count": 4,
      "outputs": []
    },
    {
      "cell_type": "markdown",
      "metadata": {
        "id": "o4G2nEF7lMA1"
      },
      "source": [
        "# 🌫️ Padding: Match the lenght of all setence"
      ]
    },
    {
      "cell_type": "code",
      "metadata": {
        "id": "hnDxYoHDlMUi"
      },
      "source": [
        "# pad sequences \n",
        "max_sequence_len = max([len(x) for x in input_sequences])\n",
        "input_sequences = np.array(pad_sequences(input_sequences, maxlen=max_sequence_len, padding='pre'))"
      ],
      "execution_count": 5,
      "outputs": []
    },
    {
      "cell_type": "markdown",
      "metadata": {
        "id": "EXyigD8UlOOv"
      },
      "source": [
        ""
      ]
    },
    {
      "cell_type": "code",
      "metadata": {
        "id": "woV1Fu5dlTAT"
      },
      "source": [
        "# create predictors and label\n",
        "predictors, label = input_sequences[:,:-1],input_sequences[:,-1]\n",
        "\n",
        "label = ku.to_categorical(label, num_classes=total_words)"
      ],
      "execution_count": 6,
      "outputs": []
    },
    {
      "cell_type": "markdown",
      "metadata": {
        "id": "2dHhxd6Zl60F"
      },
      "source": [
        "# 🕋 Define Model"
      ]
    },
    {
      "cell_type": "code",
      "metadata": {
        "colab": {
          "base_uri": "https://localhost:8080/"
        },
        "id": "R2_rwOu8lTWg",
        "outputId": "47ad9261-4273-4eaa-8488-23610ac9ceac"
      },
      "source": [
        "### START CODE HERE\n",
        "model = Sequential()\n",
        "model.add(Embedding(total_words, 100, input_length=max_sequence_len-1))# Your Embedding Layer)\n",
        "model.add(Bidirectional(LSTM(150, return_sequences = True)))# An LSTM Layer)\n",
        "model.add(Dropout(0.2))\n",
        "model.add(LSTM(100))\n",
        "model.add(Dense(total_words/2, \n",
        "                activation='relu', \n",
        "                kernel_regularizer=regularizers.l2(0.01)))# A Dense Layer including regularizers)\n",
        "model.add(Dense(total_words, activation='softmax'))\n",
        "\n",
        "\n",
        "model.summary()"
      ],
      "execution_count": 7,
      "outputs": [
        {
          "output_type": "stream",
          "name": "stdout",
          "text": [
            "Model: \"sequential\"\n",
            "_________________________________________________________________\n",
            " Layer (type)                Output Shape              Param #   \n",
            "=================================================================\n",
            " embedding (Embedding)       (None, 10, 100)           321100    \n",
            "                                                                 \n",
            " bidirectional (Bidirectiona  (None, 10, 300)          301200    \n",
            " l)                                                              \n",
            "                                                                 \n",
            " dropout (Dropout)           (None, 10, 300)           0         \n",
            "                                                                 \n",
            " lstm_1 (LSTM)               (None, 100)               160400    \n",
            "                                                                 \n",
            " dense (Dense)               (None, 1605)              162105    \n",
            "                                                                 \n",
            " dense_1 (Dense)             (None, 3211)              5156866   \n",
            "                                                                 \n",
            "=================================================================\n",
            "Total params: 6,101,671\n",
            "Trainable params: 6,101,671\n",
            "Non-trainable params: 0\n",
            "_________________________________________________________________\n"
          ]
        }
      ]
    },
    {
      "cell_type": "code",
      "metadata": {
        "id": "GD-2hYlQmwyi"
      },
      "source": [
        "# Pick an optimizer\n",
        "model.compile(loss='categorical_crossentropy', # predict a word는 categorical_crossentropy!!\n",
        "              optimizer='adam',  #tf.keras.optimizers.Adam(learning_rate=0.01)\n",
        "              metrics=['accuracy'])\n",
        "### END CODE HERE\n"
      ],
      "execution_count": 8,
      "outputs": []
    },
    {
      "cell_type": "markdown",
      "metadata": {
        "id": "OyYIXHv3nF4r"
      },
      "source": [
        "# 🏃‍♂️ fit: training model"
      ]
    },
    {
      "cell_type": "code",
      "metadata": {
        "id": "tegnc2uNnNfI"
      },
      "source": [
        "model_save_path = \"./\"\n",
        "checkpoint = tf.keras.callbacks.ModelCheckpoint(model_save_path, \n",
        "                                                save_weights_only=True, \n",
        "                                                save_best_only=True, \n",
        "                                                monitor='val_loss', #val_sparse_categorical_accuracy \n",
        "                                                verbose=1)\n"
      ],
      "execution_count": null,
      "outputs": []
    },
    {
      "cell_type": "code",
      "metadata": {
        "colab": {
          "base_uri": "https://localhost:8080/"
        },
        "id": "M7dRZykgl_KT",
        "outputId": "1015dee4-c207-412d-8e34-fbe137fa5964"
      },
      "source": [
        " history = model.fit(predictors, \n",
        "                     label, \n",
        "                     epochs=100, #150\n",
        "                     callbacks = [checkpoint],\n",
        "                     verbose=1)"
      ],
      "execution_count": 10,
      "outputs": [
        {
          "output_type": "stream",
          "name": "stdout",
          "text": [
            "Epoch 1/100\n",
            "484/484 [==============================] - ETA: 0s - loss: 6.9111 - accuracy: 0.0210WARNING:tensorflow:Can save best model only with val_loss available, skipping.\n",
            "484/484 [==============================] - 56s 103ms/step - loss: 6.9111 - accuracy: 0.0210\n",
            "Epoch 2/100\n",
            "484/484 [==============================] - ETA: 0s - loss: 6.5034 - accuracy: 0.0243WARNING:tensorflow:Can save best model only with val_loss available, skipping.\n",
            "484/484 [==============================] - 50s 103ms/step - loss: 6.5034 - accuracy: 0.0243\n",
            "Epoch 3/100\n",
            "484/484 [==============================] - ETA: 0s - loss: 6.4119 - accuracy: 0.0219WARNING:tensorflow:Can save best model only with val_loss available, skipping.\n",
            "484/484 [==============================] - 50s 104ms/step - loss: 6.4119 - accuracy: 0.0219\n",
            "Epoch 4/100\n",
            "484/484 [==============================] - ETA: 0s - loss: 6.3030 - accuracy: 0.0275WARNING:tensorflow:Can save best model only with val_loss available, skipping.\n",
            "484/484 [==============================] - 50s 103ms/step - loss: 6.3030 - accuracy: 0.0275\n",
            "Epoch 5/100\n",
            "484/484 [==============================] - ETA: 0s - loss: 6.2088 - accuracy: 0.0345WARNING:tensorflow:Can save best model only with val_loss available, skipping.\n",
            "484/484 [==============================] - 50s 103ms/step - loss: 6.2088 - accuracy: 0.0345\n",
            "Epoch 6/100\n",
            "484/484 [==============================] - ETA: 0s - loss: 6.1437 - accuracy: 0.0372WARNING:tensorflow:Can save best model only with val_loss available, skipping.\n",
            "484/484 [==============================] - 50s 104ms/step - loss: 6.1437 - accuracy: 0.0372\n",
            "Epoch 7/100\n",
            "484/484 [==============================] - ETA: 0s - loss: 6.0778 - accuracy: 0.0400WARNING:tensorflow:Can save best model only with val_loss available, skipping.\n",
            "484/484 [==============================] - 51s 105ms/step - loss: 6.0778 - accuracy: 0.0400\n",
            "Epoch 8/100\n",
            "484/484 [==============================] - ETA: 0s - loss: 6.0048 - accuracy: 0.0438WARNING:tensorflow:Can save best model only with val_loss available, skipping.\n",
            "484/484 [==============================] - 51s 105ms/step - loss: 6.0048 - accuracy: 0.0438\n",
            "Epoch 9/100\n",
            "484/484 [==============================] - ETA: 0s - loss: 5.9197 - accuracy: 0.0500WARNING:tensorflow:Can save best model only with val_loss available, skipping.\n",
            "484/484 [==============================] - 51s 105ms/step - loss: 5.9197 - accuracy: 0.0500\n",
            "Epoch 10/100\n",
            "484/484 [==============================] - ETA: 0s - loss: 5.8183 - accuracy: 0.0556WARNING:tensorflow:Can save best model only with val_loss available, skipping.\n",
            "484/484 [==============================] - 52s 108ms/step - loss: 5.8183 - accuracy: 0.0556\n",
            "Epoch 11/100\n",
            "484/484 [==============================] - ETA: 0s - loss: 5.7208 - accuracy: 0.0602WARNING:tensorflow:Can save best model only with val_loss available, skipping.\n",
            "484/484 [==============================] - 50s 104ms/step - loss: 5.7208 - accuracy: 0.0602\n",
            "Epoch 12/100\n",
            "484/484 [==============================] - ETA: 0s - loss: 5.6334 - accuracy: 0.0655WARNING:tensorflow:Can save best model only with val_loss available, skipping.\n",
            "484/484 [==============================] - 51s 104ms/step - loss: 5.6334 - accuracy: 0.0655\n",
            "Epoch 13/100\n",
            "484/484 [==============================] - ETA: 0s - loss: 5.5415 - accuracy: 0.0698WARNING:tensorflow:Can save best model only with val_loss available, skipping.\n",
            "484/484 [==============================] - 50s 104ms/step - loss: 5.5415 - accuracy: 0.0698\n",
            "Epoch 14/100\n",
            "484/484 [==============================] - ETA: 0s - loss: 5.4607 - accuracy: 0.0739WARNING:tensorflow:Can save best model only with val_loss available, skipping.\n",
            "484/484 [==============================] - 50s 104ms/step - loss: 5.4607 - accuracy: 0.0739\n",
            "Epoch 15/100\n",
            "484/484 [==============================] - ETA: 0s - loss: 5.3674 - accuracy: 0.0806WARNING:tensorflow:Can save best model only with val_loss available, skipping.\n",
            "484/484 [==============================] - 50s 104ms/step - loss: 5.3674 - accuracy: 0.0806\n",
            "Epoch 16/100\n",
            "484/484 [==============================] - ETA: 0s - loss: 5.2798 - accuracy: 0.0865WARNING:tensorflow:Can save best model only with val_loss available, skipping.\n",
            "484/484 [==============================] - 51s 104ms/step - loss: 5.2798 - accuracy: 0.0865\n",
            "Epoch 17/100\n",
            "484/484 [==============================] - ETA: 0s - loss: 5.1881 - accuracy: 0.0901WARNING:tensorflow:Can save best model only with val_loss available, skipping.\n",
            "484/484 [==============================] - 51s 105ms/step - loss: 5.1881 - accuracy: 0.0901\n",
            "Epoch 18/100\n",
            "484/484 [==============================] - ETA: 0s - loss: 5.0917 - accuracy: 0.0964WARNING:tensorflow:Can save best model only with val_loss available, skipping.\n",
            "484/484 [==============================] - 51s 104ms/step - loss: 5.0917 - accuracy: 0.0964\n",
            "Epoch 19/100\n",
            "484/484 [==============================] - ETA: 0s - loss: 5.0005 - accuracy: 0.1033WARNING:tensorflow:Can save best model only with val_loss available, skipping.\n",
            "484/484 [==============================] - 51s 105ms/step - loss: 5.0005 - accuracy: 0.1033\n",
            "Epoch 20/100\n",
            "484/484 [==============================] - ETA: 0s - loss: 4.9105 - accuracy: 0.1090WARNING:tensorflow:Can save best model only with val_loss available, skipping.\n",
            "484/484 [==============================] - 51s 105ms/step - loss: 4.9105 - accuracy: 0.1090\n",
            "Epoch 21/100\n",
            "484/484 [==============================] - ETA: 0s - loss: 4.8153 - accuracy: 0.1145WARNING:tensorflow:Can save best model only with val_loss available, skipping.\n",
            "484/484 [==============================] - 51s 104ms/step - loss: 4.8153 - accuracy: 0.1145\n",
            "Epoch 22/100\n",
            "484/484 [==============================] - ETA: 0s - loss: 4.7206 - accuracy: 0.1217WARNING:tensorflow:Can save best model only with val_loss available, skipping.\n",
            "484/484 [==============================] - 51s 105ms/step - loss: 4.7206 - accuracy: 0.1217\n",
            "Epoch 23/100\n",
            "484/484 [==============================] - ETA: 0s - loss: 4.6317 - accuracy: 0.1311WARNING:tensorflow:Can save best model only with val_loss available, skipping.\n",
            "484/484 [==============================] - 50s 104ms/step - loss: 4.6317 - accuracy: 0.1311\n",
            "Epoch 24/100\n",
            "484/484 [==============================] - ETA: 0s - loss: 4.5377 - accuracy: 0.1385WARNING:tensorflow:Can save best model only with val_loss available, skipping.\n",
            "484/484 [==============================] - 51s 104ms/step - loss: 4.5377 - accuracy: 0.1385\n",
            "Epoch 25/100\n",
            "484/484 [==============================] - ETA: 0s - loss: 4.4506 - accuracy: 0.1471WARNING:tensorflow:Can save best model only with val_loss available, skipping.\n",
            "484/484 [==============================] - 51s 104ms/step - loss: 4.4506 - accuracy: 0.1471\n",
            "Epoch 26/100\n",
            "484/484 [==============================] - ETA: 0s - loss: 4.3551 - accuracy: 0.1575WARNING:tensorflow:Can save best model only with val_loss available, skipping.\n",
            "484/484 [==============================] - 51s 105ms/step - loss: 4.3551 - accuracy: 0.1575\n",
            "Epoch 27/100\n",
            "484/484 [==============================] - ETA: 0s - loss: 4.2624 - accuracy: 0.1667WARNING:tensorflow:Can save best model only with val_loss available, skipping.\n",
            "484/484 [==============================] - 50s 104ms/step - loss: 4.2624 - accuracy: 0.1667\n",
            "Epoch 28/100\n",
            "484/484 [==============================] - ETA: 0s - loss: 4.1749 - accuracy: 0.1793WARNING:tensorflow:Can save best model only with val_loss available, skipping.\n",
            "484/484 [==============================] - 50s 104ms/step - loss: 4.1749 - accuracy: 0.1793\n",
            "Epoch 29/100\n",
            "484/484 [==============================] - ETA: 0s - loss: 4.0879 - accuracy: 0.1885WARNING:tensorflow:Can save best model only with val_loss available, skipping.\n",
            "484/484 [==============================] - 50s 104ms/step - loss: 4.0879 - accuracy: 0.1885\n",
            "Epoch 30/100\n",
            "484/484 [==============================] - ETA: 0s - loss: 4.0020 - accuracy: 0.1995WARNING:tensorflow:Can save best model only with val_loss available, skipping.\n",
            "484/484 [==============================] - 50s 104ms/step - loss: 4.0020 - accuracy: 0.1995\n",
            "Epoch 31/100\n",
            "484/484 [==============================] - ETA: 0s - loss: 3.9153 - accuracy: 0.2136WARNING:tensorflow:Can save best model only with val_loss available, skipping.\n",
            "484/484 [==============================] - 51s 105ms/step - loss: 3.9153 - accuracy: 0.2136\n",
            "Epoch 32/100\n",
            "484/484 [==============================] - ETA: 0s - loss: 3.8305 - accuracy: 0.2311WARNING:tensorflow:Can save best model only with val_loss available, skipping.\n",
            "484/484 [==============================] - 50s 103ms/step - loss: 3.8305 - accuracy: 0.2311\n",
            "Epoch 33/100\n",
            "484/484 [==============================] - ETA: 0s - loss: 3.7505 - accuracy: 0.2406WARNING:tensorflow:Can save best model only with val_loss available, skipping.\n",
            "484/484 [==============================] - 50s 104ms/step - loss: 3.7505 - accuracy: 0.2406\n",
            "Epoch 34/100\n",
            "484/484 [==============================] - ETA: 0s - loss: 3.6744 - accuracy: 0.2612WARNING:tensorflow:Can save best model only with val_loss available, skipping.\n",
            "484/484 [==============================] - 50s 104ms/step - loss: 3.6744 - accuracy: 0.2612\n",
            "Epoch 35/100\n",
            "484/484 [==============================] - ETA: 0s - loss: 3.5959 - accuracy: 0.2782WARNING:tensorflow:Can save best model only with val_loss available, skipping.\n",
            "484/484 [==============================] - 50s 103ms/step - loss: 3.5959 - accuracy: 0.2782\n",
            "Epoch 36/100\n",
            "484/484 [==============================] - ETA: 0s - loss: 3.5256 - accuracy: 0.2868WARNING:tensorflow:Can save best model only with val_loss available, skipping.\n",
            "484/484 [==============================] - 50s 103ms/step - loss: 3.5256 - accuracy: 0.2868\n",
            "Epoch 37/100\n",
            "484/484 [==============================] - ETA: 0s - loss: 3.4476 - accuracy: 0.3080WARNING:tensorflow:Can save best model only with val_loss available, skipping.\n",
            "484/484 [==============================] - 50s 103ms/step - loss: 3.4476 - accuracy: 0.3080\n",
            "Epoch 38/100\n",
            "484/484 [==============================] - ETA: 0s - loss: 3.3724 - accuracy: 0.3192WARNING:tensorflow:Can save best model only with val_loss available, skipping.\n",
            "484/484 [==============================] - 50s 104ms/step - loss: 3.3724 - accuracy: 0.3192\n",
            "Epoch 39/100\n",
            "484/484 [==============================] - ETA: 0s - loss: 3.3099 - accuracy: 0.3360WARNING:tensorflow:Can save best model only with val_loss available, skipping.\n",
            "484/484 [==============================] - 51s 105ms/step - loss: 3.3099 - accuracy: 0.3360\n",
            "Epoch 40/100\n",
            "484/484 [==============================] - ETA: 0s - loss: 3.2471 - accuracy: 0.3542WARNING:tensorflow:Can save best model only with val_loss available, skipping.\n",
            "484/484 [==============================] - 50s 104ms/step - loss: 3.2471 - accuracy: 0.3542\n",
            "Epoch 41/100\n",
            "484/484 [==============================] - ETA: 0s - loss: 3.1733 - accuracy: 0.3675WARNING:tensorflow:Can save best model only with val_loss available, skipping.\n",
            "484/484 [==============================] - 50s 104ms/step - loss: 3.1733 - accuracy: 0.3675\n",
            "Epoch 42/100\n",
            "484/484 [==============================] - ETA: 0s - loss: 3.1016 - accuracy: 0.3803WARNING:tensorflow:Can save best model only with val_loss available, skipping.\n",
            "484/484 [==============================] - 50s 103ms/step - loss: 3.1016 - accuracy: 0.3803\n",
            "Epoch 43/100\n",
            "484/484 [==============================] - ETA: 0s - loss: 3.0497 - accuracy: 0.3961WARNING:tensorflow:Can save best model only with val_loss available, skipping.\n",
            "484/484 [==============================] - 50s 103ms/step - loss: 3.0497 - accuracy: 0.3961\n",
            "Epoch 44/100\n",
            "484/484 [==============================] - ETA: 0s - loss: 2.9898 - accuracy: 0.4073WARNING:tensorflow:Can save best model only with val_loss available, skipping.\n",
            "484/484 [==============================] - 50s 103ms/step - loss: 2.9898 - accuracy: 0.4073\n",
            "Epoch 45/100\n",
            "484/484 [==============================] - ETA: 0s - loss: 2.9228 - accuracy: 0.4245WARNING:tensorflow:Can save best model only with val_loss available, skipping.\n",
            "484/484 [==============================] - 50s 104ms/step - loss: 2.9228 - accuracy: 0.4245\n",
            "Epoch 46/100\n",
            "484/484 [==============================] - ETA: 0s - loss: 2.8700 - accuracy: 0.4344WARNING:tensorflow:Can save best model only with val_loss available, skipping.\n",
            "484/484 [==============================] - 50s 103ms/step - loss: 2.8700 - accuracy: 0.4344\n",
            "Epoch 47/100\n",
            "484/484 [==============================] - ETA: 0s - loss: 2.8145 - accuracy: 0.4475WARNING:tensorflow:Can save best model only with val_loss available, skipping.\n",
            "484/484 [==============================] - 50s 103ms/step - loss: 2.8145 - accuracy: 0.4475\n",
            "Epoch 48/100\n",
            "484/484 [==============================] - ETA: 0s - loss: 2.7537 - accuracy: 0.4582WARNING:tensorflow:Can save best model only with val_loss available, skipping.\n",
            "484/484 [==============================] - 50s 103ms/step - loss: 2.7537 - accuracy: 0.4582\n",
            "Epoch 49/100\n",
            "484/484 [==============================] - ETA: 0s - loss: 2.7089 - accuracy: 0.4734WARNING:tensorflow:Can save best model only with val_loss available, skipping.\n",
            "484/484 [==============================] - 50s 103ms/step - loss: 2.7089 - accuracy: 0.4734\n",
            "Epoch 50/100\n",
            "484/484 [==============================] - ETA: 0s - loss: 2.6572 - accuracy: 0.4825WARNING:tensorflow:Can save best model only with val_loss available, skipping.\n",
            "484/484 [==============================] - 50s 103ms/step - loss: 2.6572 - accuracy: 0.4825\n",
            "Epoch 51/100\n",
            "484/484 [==============================] - ETA: 0s - loss: 2.5975 - accuracy: 0.4968WARNING:tensorflow:Can save best model only with val_loss available, skipping.\n",
            "484/484 [==============================] - 50s 103ms/step - loss: 2.5975 - accuracy: 0.4968\n",
            "Epoch 52/100\n",
            "484/484 [==============================] - ETA: 0s - loss: 2.5623 - accuracy: 0.5058WARNING:tensorflow:Can save best model only with val_loss available, skipping.\n",
            "484/484 [==============================] - 50s 103ms/step - loss: 2.5623 - accuracy: 0.5058\n",
            "Epoch 53/100\n",
            "484/484 [==============================] - ETA: 0s - loss: 2.5138 - accuracy: 0.5127WARNING:tensorflow:Can save best model only with val_loss available, skipping.\n",
            "484/484 [==============================] - 50s 104ms/step - loss: 2.5138 - accuracy: 0.5127\n",
            "Epoch 54/100\n",
            "484/484 [==============================] - ETA: 0s - loss: 2.4615 - accuracy: 0.5290WARNING:tensorflow:Can save best model only with val_loss available, skipping.\n",
            "484/484 [==============================] - 50s 103ms/step - loss: 2.4615 - accuracy: 0.5290\n",
            "Epoch 55/100\n",
            "484/484 [==============================] - ETA: 0s - loss: 2.4103 - accuracy: 0.5423WARNING:tensorflow:Can save best model only with val_loss available, skipping.\n",
            "484/484 [==============================] - 50s 104ms/step - loss: 2.4103 - accuracy: 0.5423\n",
            "Epoch 56/100\n",
            "484/484 [==============================] - ETA: 0s - loss: 2.3607 - accuracy: 0.5554WARNING:tensorflow:Can save best model only with val_loss available, skipping.\n",
            "484/484 [==============================] - 50s 103ms/step - loss: 2.3607 - accuracy: 0.5554\n",
            "Epoch 57/100\n",
            "484/484 [==============================] - ETA: 0s - loss: 2.3300 - accuracy: 0.5600WARNING:tensorflow:Can save best model only with val_loss available, skipping.\n",
            "484/484 [==============================] - 50s 104ms/step - loss: 2.3300 - accuracy: 0.5600\n",
            "Epoch 58/100\n",
            "484/484 [==============================] - ETA: 0s - loss: 2.2950 - accuracy: 0.5644WARNING:tensorflow:Can save best model only with val_loss available, skipping.\n",
            "484/484 [==============================] - 50s 104ms/step - loss: 2.2950 - accuracy: 0.5644\n",
            "Epoch 59/100\n",
            "484/484 [==============================] - ETA: 0s - loss: 2.2475 - accuracy: 0.5782WARNING:tensorflow:Can save best model only with val_loss available, skipping.\n",
            "484/484 [==============================] - 50s 103ms/step - loss: 2.2475 - accuracy: 0.5782\n",
            "Epoch 60/100\n",
            "484/484 [==============================] - ETA: 0s - loss: 2.2088 - accuracy: 0.5867WARNING:tensorflow:Can save best model only with val_loss available, skipping.\n",
            "484/484 [==============================] - 50s 103ms/step - loss: 2.2088 - accuracy: 0.5867\n",
            "Epoch 61/100\n",
            "484/484 [==============================] - ETA: 0s - loss: 2.1718 - accuracy: 0.5948WARNING:tensorflow:Can save best model only with val_loss available, skipping.\n",
            "484/484 [==============================] - 50s 104ms/step - loss: 2.1718 - accuracy: 0.5948\n",
            "Epoch 62/100\n",
            "484/484 [==============================] - ETA: 0s - loss: 2.1349 - accuracy: 0.6018WARNING:tensorflow:Can save best model only with val_loss available, skipping.\n",
            "484/484 [==============================] - 50s 104ms/step - loss: 2.1349 - accuracy: 0.6018\n",
            "Epoch 63/100\n",
            "484/484 [==============================] - ETA: 0s - loss: 2.0887 - accuracy: 0.6165WARNING:tensorflow:Can save best model only with val_loss available, skipping.\n",
            "484/484 [==============================] - 50s 104ms/step - loss: 2.0887 - accuracy: 0.6165\n",
            "Epoch 64/100\n",
            "484/484 [==============================] - ETA: 0s - loss: 2.0702 - accuracy: 0.6153WARNING:tensorflow:Can save best model only with val_loss available, skipping.\n",
            "484/484 [==============================] - 50s 104ms/step - loss: 2.0702 - accuracy: 0.6153\n",
            "Epoch 65/100\n",
            "484/484 [==============================] - ETA: 0s - loss: 2.0188 - accuracy: 0.6305WARNING:tensorflow:Can save best model only with val_loss available, skipping.\n",
            "484/484 [==============================] - 50s 104ms/step - loss: 2.0188 - accuracy: 0.6305\n",
            "Epoch 66/100\n",
            "484/484 [==============================] - ETA: 0s - loss: 1.9889 - accuracy: 0.6358WARNING:tensorflow:Can save best model only with val_loss available, skipping.\n",
            "484/484 [==============================] - 50s 104ms/step - loss: 1.9889 - accuracy: 0.6358\n",
            "Epoch 67/100\n",
            "484/484 [==============================] - ETA: 0s - loss: 1.9728 - accuracy: 0.6354WARNING:tensorflow:Can save best model only with val_loss available, skipping.\n",
            "484/484 [==============================] - 51s 104ms/step - loss: 1.9728 - accuracy: 0.6354\n",
            "Epoch 68/100\n",
            "484/484 [==============================] - ETA: 0s - loss: 1.9444 - accuracy: 0.6412WARNING:tensorflow:Can save best model only with val_loss available, skipping.\n",
            "484/484 [==============================] - 50s 104ms/step - loss: 1.9444 - accuracy: 0.6412\n",
            "Epoch 69/100\n",
            "484/484 [==============================] - ETA: 0s - loss: 1.9118 - accuracy: 0.6543WARNING:tensorflow:Can save best model only with val_loss available, skipping.\n",
            "484/484 [==============================] - 50s 104ms/step - loss: 1.9118 - accuracy: 0.6543\n",
            "Epoch 70/100\n",
            "484/484 [==============================] - ETA: 0s - loss: 1.8642 - accuracy: 0.6596WARNING:tensorflow:Can save best model only with val_loss available, skipping.\n",
            "484/484 [==============================] - 51s 105ms/step - loss: 1.8642 - accuracy: 0.6596\n",
            "Epoch 71/100\n",
            "484/484 [==============================] - ETA: 0s - loss: 1.8527 - accuracy: 0.6663WARNING:tensorflow:Can save best model only with val_loss available, skipping.\n",
            "484/484 [==============================] - 50s 103ms/step - loss: 1.8527 - accuracy: 0.6663\n",
            "Epoch 72/100\n",
            "484/484 [==============================] - ETA: 0s - loss: 1.8200 - accuracy: 0.6682WARNING:tensorflow:Can save best model only with val_loss available, skipping.\n",
            "484/484 [==============================] - 50s 103ms/step - loss: 1.8200 - accuracy: 0.6682\n",
            "Epoch 73/100\n",
            "484/484 [==============================] - ETA: 0s - loss: 1.7908 - accuracy: 0.6769WARNING:tensorflow:Can save best model only with val_loss available, skipping.\n",
            "484/484 [==============================] - 50s 103ms/step - loss: 1.7908 - accuracy: 0.6769\n",
            "Epoch 74/100\n",
            "484/484 [==============================] - ETA: 0s - loss: 1.7832 - accuracy: 0.6795WARNING:tensorflow:Can save best model only with val_loss available, skipping.\n",
            "484/484 [==============================] - 50s 104ms/step - loss: 1.7832 - accuracy: 0.6795\n",
            "Epoch 75/100\n",
            "484/484 [==============================] - ETA: 0s - loss: 1.7433 - accuracy: 0.6865WARNING:tensorflow:Can save best model only with val_loss available, skipping.\n",
            "484/484 [==============================] - 50s 104ms/step - loss: 1.7433 - accuracy: 0.6865\n",
            "Epoch 76/100\n",
            "484/484 [==============================] - ETA: 0s - loss: 1.7100 - accuracy: 0.6969WARNING:tensorflow:Can save best model only with val_loss available, skipping.\n",
            "484/484 [==============================] - 50s 104ms/step - loss: 1.7100 - accuracy: 0.6969\n",
            "Epoch 77/100\n",
            "484/484 [==============================] - ETA: 0s - loss: 1.6875 - accuracy: 0.7007WARNING:tensorflow:Can save best model only with val_loss available, skipping.\n",
            "484/484 [==============================] - 51s 105ms/step - loss: 1.6875 - accuracy: 0.7007\n",
            "Epoch 78/100\n",
            "484/484 [==============================] - ETA: 0s - loss: 1.6791 - accuracy: 0.7010WARNING:tensorflow:Can save best model only with val_loss available, skipping.\n",
            "484/484 [==============================] - 51s 105ms/step - loss: 1.6791 - accuracy: 0.7010\n",
            "Epoch 79/100\n",
            "484/484 [==============================] - ETA: 0s - loss: 1.6475 - accuracy: 0.7093WARNING:tensorflow:Can save best model only with val_loss available, skipping.\n",
            "484/484 [==============================] - 50s 104ms/step - loss: 1.6475 - accuracy: 0.7093\n",
            "Epoch 80/100\n",
            "484/484 [==============================] - ETA: 0s - loss: 1.6291 - accuracy: 0.7121WARNING:tensorflow:Can save best model only with val_loss available, skipping.\n",
            "484/484 [==============================] - 50s 104ms/step - loss: 1.6291 - accuracy: 0.7121\n",
            "Epoch 81/100\n",
            "484/484 [==============================] - ETA: 0s - loss: 1.6057 - accuracy: 0.7192WARNING:tensorflow:Can save best model only with val_loss available, skipping.\n",
            "484/484 [==============================] - 50s 104ms/step - loss: 1.6057 - accuracy: 0.7192\n",
            "Epoch 82/100\n",
            "484/484 [==============================] - ETA: 0s - loss: 1.5828 - accuracy: 0.7224WARNING:tensorflow:Can save best model only with val_loss available, skipping.\n",
            "484/484 [==============================] - 50s 104ms/step - loss: 1.5828 - accuracy: 0.7224\n",
            "Epoch 83/100\n",
            "484/484 [==============================] - ETA: 0s - loss: 1.5503 - accuracy: 0.7289WARNING:tensorflow:Can save best model only with val_loss available, skipping.\n",
            "484/484 [==============================] - 50s 104ms/step - loss: 1.5503 - accuracy: 0.7289\n",
            "Epoch 84/100\n",
            "484/484 [==============================] - ETA: 0s - loss: 1.5395 - accuracy: 0.7311WARNING:tensorflow:Can save best model only with val_loss available, skipping.\n",
            "484/484 [==============================] - 50s 104ms/step - loss: 1.5395 - accuracy: 0.7311\n",
            "Epoch 85/100\n",
            "484/484 [==============================] - ETA: 0s - loss: 1.5133 - accuracy: 0.7370WARNING:tensorflow:Can save best model only with val_loss available, skipping.\n",
            "484/484 [==============================] - 51s 104ms/step - loss: 1.5133 - accuracy: 0.7370\n",
            "Epoch 86/100\n",
            "484/484 [==============================] - ETA: 0s - loss: 1.5031 - accuracy: 0.7368WARNING:tensorflow:Can save best model only with val_loss available, skipping.\n",
            "484/484 [==============================] - 51s 105ms/step - loss: 1.5031 - accuracy: 0.7368\n",
            "Epoch 87/100\n",
            "484/484 [==============================] - ETA: 0s - loss: 1.4848 - accuracy: 0.7419WARNING:tensorflow:Can save best model only with val_loss available, skipping.\n",
            "484/484 [==============================] - 50s 104ms/step - loss: 1.4848 - accuracy: 0.7419\n",
            "Epoch 88/100\n",
            "484/484 [==============================] - ETA: 0s - loss: 1.4762 - accuracy: 0.7413WARNING:tensorflow:Can save best model only with val_loss available, skipping.\n",
            "484/484 [==============================] - 51s 104ms/step - loss: 1.4762 - accuracy: 0.7413\n",
            "Epoch 89/100\n",
            "484/484 [==============================] - ETA: 0s - loss: 1.4468 - accuracy: 0.7489WARNING:tensorflow:Can save best model only with val_loss available, skipping.\n",
            "484/484 [==============================] - 51s 106ms/step - loss: 1.4468 - accuracy: 0.7489\n",
            "Epoch 90/100\n",
            "484/484 [==============================] - ETA: 0s - loss: 1.4439 - accuracy: 0.7472WARNING:tensorflow:Can save best model only with val_loss available, skipping.\n",
            "484/484 [==============================] - 51s 105ms/step - loss: 1.4439 - accuracy: 0.7472\n",
            "Epoch 91/100\n",
            "484/484 [==============================] - ETA: 0s - loss: 1.4328 - accuracy: 0.7513WARNING:tensorflow:Can save best model only with val_loss available, skipping.\n",
            "484/484 [==============================] - 52s 108ms/step - loss: 1.4328 - accuracy: 0.7513\n",
            "Epoch 92/100\n",
            "484/484 [==============================] - ETA: 0s - loss: 1.4134 - accuracy: 0.7550WARNING:tensorflow:Can save best model only with val_loss available, skipping.\n",
            "484/484 [==============================] - 51s 106ms/step - loss: 1.4134 - accuracy: 0.7550\n",
            "Epoch 93/100\n",
            "484/484 [==============================] - ETA: 0s - loss: 1.3933 - accuracy: 0.7596WARNING:tensorflow:Can save best model only with val_loss available, skipping.\n",
            "484/484 [==============================] - 51s 106ms/step - loss: 1.3933 - accuracy: 0.7596\n",
            "Epoch 94/100\n",
            "484/484 [==============================] - ETA: 0s - loss: 1.3823 - accuracy: 0.7613WARNING:tensorflow:Can save best model only with val_loss available, skipping.\n",
            "484/484 [==============================] - 51s 105ms/step - loss: 1.3823 - accuracy: 0.7613\n",
            "Epoch 95/100\n",
            "484/484 [==============================] - ETA: 0s - loss: 1.3650 - accuracy: 0.7623WARNING:tensorflow:Can save best model only with val_loss available, skipping.\n",
            "484/484 [==============================] - 50s 104ms/step - loss: 1.3650 - accuracy: 0.7623\n",
            "Epoch 96/100\n",
            "484/484 [==============================] - ETA: 0s - loss: 1.3427 - accuracy: 0.7670WARNING:tensorflow:Can save best model only with val_loss available, skipping.\n",
            "484/484 [==============================] - 50s 104ms/step - loss: 1.3427 - accuracy: 0.7670\n",
            "Epoch 97/100\n",
            "484/484 [==============================] - ETA: 0s - loss: 1.3284 - accuracy: 0.7707WARNING:tensorflow:Can save best model only with val_loss available, skipping.\n",
            "484/484 [==============================] - 51s 105ms/step - loss: 1.3284 - accuracy: 0.7707\n",
            "Epoch 98/100\n",
            "484/484 [==============================] - ETA: 0s - loss: 1.3414 - accuracy: 0.7653WARNING:tensorflow:Can save best model only with val_loss available, skipping.\n",
            "484/484 [==============================] - 51s 104ms/step - loss: 1.3414 - accuracy: 0.7653\n",
            "Epoch 99/100\n",
            "484/484 [==============================] - ETA: 0s - loss: 1.3161 - accuracy: 0.7722WARNING:tensorflow:Can save best model only with val_loss available, skipping.\n",
            "484/484 [==============================] - 51s 105ms/step - loss: 1.3161 - accuracy: 0.7722\n",
            "Epoch 100/100\n",
            "484/484 [==============================] - ETA: 0s - loss: 1.2982 - accuracy: 0.7745WARNING:tensorflow:Can save best model only with val_loss available, skipping.\n",
            "484/484 [==============================] - 51s 105ms/step - loss: 1.2982 - accuracy: 0.7745\n"
          ]
        }
      ]
    },
    {
      "cell_type": "markdown",
      "metadata": {
        "id": "ILUdMkFcnSxw"
      },
      "source": [
        "# 💿 Get a best model"
      ]
    },
    {
      "cell_type": "code",
      "metadata": {
        "id": "OQfmJe-OnTLd"
      },
      "source": [
        "#model.load_weights(model_save_path)\n",
        "model.save(\"predict a word - sonnets.h5\")\n",
        "\n",
        "# https://teddylee777.github.io/tensorflow/news-sarcasm\n",
        "# Dense Layer를 깊게 쌓아 보거나,\n",
        "# Conv1D 혹은 LSTM을 두 겹으로 쌓거나\n",
        "# optimizer(adam)의 learning_rate를 높이거나 낮추는 방식으로\n",
        "# 모델을 개선해보자"
      ],
      "execution_count": 13,
      "outputs": []
    },
    {
      "cell_type": "markdown",
      "metadata": {
        "id": "NRG8DLLbnYs-"
      },
      "source": [
        "#📈 Plot accuracy & loss"
      ]
    },
    {
      "cell_type": "code",
      "metadata": {
        "colab": {
          "base_uri": "https://localhost:8080/",
          "height": 545
        },
        "id": "Af7qBNBQnZCX",
        "outputId": "5ab4864d-f79d-4b16-bab3-ce5eb7a37102"
      },
      "source": [
        "import matplotlib.pyplot as plt\n",
        "\n",
        "acc = history.history['accuracy']\n",
        "loss = history.history['loss']\n",
        "\n",
        "epochs = range(len(acc))\n",
        "\n",
        "plt.plot(epochs, acc, 'b', label='Training accuracy')\n",
        "plt.title('Training accuracy')\n",
        "\n",
        "plt.figure()\n",
        "\n",
        "plt.plot(epochs, loss, 'b', label='Training Loss')\n",
        "plt.title('Training loss')\n",
        "plt.legend()\n",
        "\n",
        "plt.show()"
      ],
      "execution_count": 14,
      "outputs": [
        {
          "output_type": "display_data",
          "data": {
            "image/png": "[encoded data removed]",
            "text/plain": [
              "<Figure size 432x288 with 1 Axes>"
            ]
          },
          "metadata": {
            "needs_background": "light"
          }
        },
        {
          "output_type": "display_data",
          "data": {
            "image/png": "[encoded data removed]",
            "text/plain": [
              "<Figure size 432x288 with 1 Axes>"
            ]
          },
          "metadata": {
            "needs_background": "light"
          }
        }
      ]
    },
    {
      "cell_type": "markdown",
      "metadata": {
        "id": "AQIQL94jnihs"
      },
      "source": [
        "# Test"
      ]
    },
    {
      "cell_type": "code",
      "metadata": {
        "colab": {
          "base_uri": "https://localhost:8080/"
        },
        "id": "kPBJtuUonjJo",
        "outputId": "e9f86ae4-340b-42cb-f1d7-42bb7afa8f75"
      },
      "source": [
        "seed_text = \"Help me Obi Wan Kenobi, you're my only hope\"\n",
        "next_words = 100\n",
        "  \n",
        "for _ in range(next_words):\n",
        "\ttoken_list = tokenizer.texts_to_sequences([seed_text])[0]\n",
        "\ttoken_list = pad_sequences([token_list], maxlen=max_sequence_len-1, padding='pre')\n",
        "\tpredicted = np.argmax(model.predict(token_list, verbose=0), axis=1)\n",
        "\toutput_word = \"\"\n",
        "\tfor word, index in tokenizer.word_index.items():\n",
        "\t\tif index == predicted:\n",
        "\t\t\toutput_word = word\n",
        "\t\t\tbreak\n",
        "\tseed_text += \" \" + output_word\n",
        "print(seed_text)"
      ],
      "execution_count": 19,
      "outputs": [
        {
          "output_type": "stream",
          "name": "stdout",
          "text": [
            "Help me Obi Wan Kenobi, you're my only hope but i have hell away dead writ must thee be hence thine words know thine eyes all thine eyes alone to me be less respect find dead gone on all thy dead days more cross ' best of cheeks love that love to thee tend tend tend needing exceed tend twain hate other strong friend cold strong friend strong friend best best in thee doth me be shown ever much dead kind on dear friend lie with thy friend to such ill say i all thee show his heart ' not so mine eye untrue despair so dear alone eye\n"
          ]
        }
      ]
    },
    {
      "cell_type": "markdown",
      "metadata": {
        "id": "KrGROOQ_toQ1"
      },
      "source": [
        "# +) With Higher Learning Rate"
      ]
    },
    {
      "cell_type": "code",
      "metadata": {
        "id": "zF3_mCdHuw3h"
      },
      "source": [
        "model_save_path = \"./\"\n",
        "checkpoint = tf.keras.callbacks.ModelCheckpoint(model_save_path, \n",
        "                                                save_weights_only=True, \n",
        "                                                save_best_only=True, \n",
        "                                                monitor='loss', #val_sparse_categorical_accuracy \n",
        "                                                verbose=1)\n"
      ],
      "execution_count": 23,
      "outputs": []
    },
    {
      "cell_type": "code",
      "metadata": {
        "id": "vBUxbbccpJws"
      },
      "source": [
        "# Pick an optimizer\n",
        "model.compile(loss='categorical_crossentropy', # predict a word는 categorical_crossentropy!!\n",
        "              optimizer=tf.keras.optimizers.Adam(learning_rate=0.005),\n",
        "              metrics=['accuracy'])\n",
        "### END CODE HERE\n"
      ],
      "execution_count": 24,
      "outputs": []
    },
    {
      "cell_type": "code",
      "metadata": {
        "colab": {
          "base_uri": "https://localhost:8080/",
          "height": 1000
        },
        "id": "S8HzdjuMtxCO",
        "outputId": "4e6073f3-f7d8-4f11-8c95-d6eb23e0f506"
      },
      "source": [
        " history = model.fit(predictors, \n",
        "                     label, \n",
        "                     epochs=100, \n",
        "                     callbacks = [checkpoint],\n",
        "                     verbose=1)"
      ],
      "execution_count": 25,
      "outputs": [
        {
          "output_type": "stream",
          "name": "stdout",
          "text": [
            "Epoch 1/100\n",
            "484/484 [==============================] - ETA: 0s - loss: 5.4777 - accuracy: 0.0813\n",
            "Epoch 00001: loss improved from inf to 5.47768, saving model to ./\n",
            "484/484 [==============================] - 55s 103ms/step - loss: 5.4777 - accuracy: 0.0813\n",
            "Epoch 2/100\n",
            "484/484 [==============================] - ETA: 0s - loss: 5.1840 - accuracy: 0.0911\n",
            "Epoch 00002: loss improved from 5.47768 to 5.18399, saving model to ./\n",
            "484/484 [==============================] - 50s 103ms/step - loss: 5.1840 - accuracy: 0.0911\n",
            "Epoch 3/100\n",
            "484/484 [==============================] - ETA: 0s - loss: 5.0735 - accuracy: 0.0943\n",
            "Epoch 00003: loss improved from 5.18399 to 5.07347, saving model to ./\n",
            "484/484 [==============================] - 50s 104ms/step - loss: 5.0735 - accuracy: 0.0943\n",
            "Epoch 4/100\n",
            "484/484 [==============================] - ETA: 0s - loss: 4.9571 - accuracy: 0.1007\n",
            "Epoch 00004: loss improved from 5.07347 to 4.95708, saving model to ./\n",
            "484/484 [==============================] - 50s 103ms/step - loss: 4.9571 - accuracy: 0.1007\n",
            "Epoch 5/100\n",
            "484/484 [==============================] - ETA: 0s - loss: 4.9280 - accuracy: 0.1011\n",
            "Epoch 00005: loss improved from 4.95708 to 4.92799, saving model to ./\n",
            "484/484 [==============================] - 50s 103ms/step - loss: 4.9280 - accuracy: 0.1011\n",
            "Epoch 6/100\n",
            "484/484 [==============================] - ETA: 0s - loss: 4.8527 - accuracy: 0.1044\n",
            "Epoch 00006: loss improved from 4.92799 to 4.85269, saving model to ./\n",
            "484/484 [==============================] - 50s 103ms/step - loss: 4.8527 - accuracy: 0.1044\n",
            "Epoch 7/100\n",
            "484/484 [==============================] - ETA: 0s - loss: 4.7744 - accuracy: 0.1038\n",
            "Epoch 00007: loss improved from 4.85269 to 4.77443, saving model to ./\n",
            "484/484 [==============================] - 50s 103ms/step - loss: 4.7744 - accuracy: 0.1038\n",
            "Epoch 8/100\n",
            "484/484 [==============================] - ETA: 0s - loss: 4.7136 - accuracy: 0.1079\n",
            "Epoch 00008: loss improved from 4.77443 to 4.71356, saving model to ./\n",
            "484/484 [==============================] - 50s 104ms/step - loss: 4.7136 - accuracy: 0.1079\n",
            "Epoch 9/100\n",
            "484/484 [==============================] - ETA: 0s - loss: 4.7021 - accuracy: 0.1108\n",
            "Epoch 00009: loss improved from 4.71356 to 4.70212, saving model to ./\n",
            "484/484 [==============================] - 50s 103ms/step - loss: 4.7021 - accuracy: 0.1108\n",
            "Epoch 10/100\n",
            "484/484 [==============================] - ETA: 0s - loss: 4.6633 - accuracy: 0.1138\n",
            "Epoch 00010: loss improved from 4.70212 to 4.66328, saving model to ./\n",
            "484/484 [==============================] - 50s 103ms/step - loss: 4.6633 - accuracy: 0.1138\n",
            "Epoch 11/100\n",
            "484/484 [==============================] - ETA: 0s - loss: 4.6335 - accuracy: 0.1153\n",
            "Epoch 00011: loss improved from 4.66328 to 4.63350, saving model to ./\n",
            "484/484 [==============================] - 50s 104ms/step - loss: 4.6335 - accuracy: 0.1153\n",
            "Epoch 12/100\n",
            "484/484 [==============================] - ETA: 0s - loss: 4.5934 - accuracy: 0.1153\n",
            "Epoch 00012: loss improved from 4.63350 to 4.59338, saving model to ./\n",
            "484/484 [==============================] - 50s 103ms/step - loss: 4.5934 - accuracy: 0.1153\n",
            "Epoch 13/100\n",
            "484/484 [==============================] - ETA: 0s - loss: 4.5537 - accuracy: 0.1221\n",
            "Epoch 00013: loss improved from 4.59338 to 4.55372, saving model to ./\n",
            "484/484 [==============================] - 50s 104ms/step - loss: 4.5537 - accuracy: 0.1221\n",
            "Epoch 14/100\n",
            "484/484 [==============================] - ETA: 0s - loss: 4.5285 - accuracy: 0.1235\n",
            "Epoch 00014: loss improved from 4.55372 to 4.52854, saving model to ./\n",
            "484/484 [==============================] - 50s 103ms/step - loss: 4.5285 - accuracy: 0.1235\n",
            "Epoch 15/100\n",
            "484/484 [==============================] - ETA: 0s - loss: 4.5050 - accuracy: 0.1250\n",
            "Epoch 00015: loss improved from 4.52854 to 4.50504, saving model to ./\n",
            "484/484 [==============================] - 50s 104ms/step - loss: 4.5050 - accuracy: 0.1250\n",
            "Epoch 16/100\n",
            "484/484 [==============================] - ETA: 0s - loss: 4.4707 - accuracy: 0.1255\n",
            "Epoch 00016: loss improved from 4.50504 to 4.47068, saving model to ./\n",
            "484/484 [==============================] - 50s 103ms/step - loss: 4.4707 - accuracy: 0.1255\n",
            "Epoch 17/100\n",
            "484/484 [==============================] - ETA: 0s - loss: 4.4403 - accuracy: 0.1336\n",
            "Epoch 00017: loss improved from 4.47068 to 4.44029, saving model to ./\n",
            "484/484 [==============================] - 50s 104ms/step - loss: 4.4403 - accuracy: 0.1336\n",
            "Epoch 18/100\n",
            "484/484 [==============================] - ETA: 0s - loss: 4.4444 - accuracy: 0.1323\n",
            "Epoch 00018: loss did not improve from 4.44029\n",
            "484/484 [==============================] - 50s 103ms/step - loss: 4.4444 - accuracy: 0.1323\n",
            "Epoch 19/100\n",
            "484/484 [==============================] - ETA: 0s - loss: 4.4178 - accuracy: 0.1322\n",
            "Epoch 00019: loss improved from 4.44029 to 4.41781, saving model to ./\n",
            "484/484 [==============================] - 50s 103ms/step - loss: 4.4178 - accuracy: 0.1322\n",
            "Epoch 20/100\n",
            "484/484 [==============================] - ETA: 0s - loss: 4.3864 - accuracy: 0.1391\n",
            "Epoch 00020: loss improved from 4.41781 to 4.38641, saving model to ./\n",
            "484/484 [==============================] - 50s 103ms/step - loss: 4.3864 - accuracy: 0.1391\n",
            "Epoch 21/100\n",
            "484/484 [==============================] - ETA: 0s - loss: 4.3685 - accuracy: 0.1347\n",
            "Epoch 00021: loss improved from 4.38641 to 4.36847, saving model to ./\n",
            "484/484 [==============================] - 50s 104ms/step - loss: 4.3685 - accuracy: 0.1347\n",
            "Epoch 22/100\n",
            "484/484 [==============================] - ETA: 0s - loss: 4.3465 - accuracy: 0.1383\n",
            "Epoch 00022: loss improved from 4.36847 to 4.34652, saving model to ./\n",
            "484/484 [==============================] - 51s 105ms/step - loss: 4.3465 - accuracy: 0.1383\n",
            "Epoch 23/100\n",
            "484/484 [==============================] - ETA: 0s - loss: 4.3458 - accuracy: 0.1367\n",
            "Epoch 00023: loss improved from 4.34652 to 4.34578, saving model to ./\n",
            "484/484 [==============================] - 51s 106ms/step - loss: 4.3458 - accuracy: 0.1367\n",
            "Epoch 24/100\n",
            "484/484 [==============================] - ETA: 0s - loss: 4.3413 - accuracy: 0.1370\n",
            "Epoch 00024: loss improved from 4.34578 to 4.34134, saving model to ./\n",
            "484/484 [==============================] - 51s 105ms/step - loss: 4.3413 - accuracy: 0.1370\n",
            "Epoch 25/100\n",
            "484/484 [==============================] - ETA: 0s - loss: 4.3380 - accuracy: 0.1363\n",
            "Epoch 00025: loss improved from 4.34134 to 4.33804, saving model to ./\n",
            "484/484 [==============================] - 50s 104ms/step - loss: 4.3380 - accuracy: 0.1363\n",
            "Epoch 26/100\n",
            "484/484 [==============================] - ETA: 0s - loss: 4.2995 - accuracy: 0.1420\n",
            "Epoch 00026: loss improved from 4.33804 to 4.29952, saving model to ./\n",
            "484/484 [==============================] - 50s 104ms/step - loss: 4.2995 - accuracy: 0.1420\n",
            "Epoch 27/100\n",
            "484/484 [==============================] - ETA: 0s - loss: 4.3129 - accuracy: 0.1407\n",
            "Epoch 00027: loss did not improve from 4.29952\n",
            "484/484 [==============================] - 50s 104ms/step - loss: 4.3129 - accuracy: 0.1407\n",
            "Epoch 28/100\n",
            "484/484 [==============================] - ETA: 0s - loss: 4.2960 - accuracy: 0.1423\n",
            "Epoch 00028: loss improved from 4.29952 to 4.29602, saving model to ./\n",
            "484/484 [==============================] - 50s 104ms/step - loss: 4.2960 - accuracy: 0.1423\n",
            "Epoch 29/100\n",
            "484/484 [==============================] - ETA: 0s - loss: 4.3036 - accuracy: 0.1403\n",
            "Epoch 00029: loss did not improve from 4.29602\n",
            "484/484 [==============================] - 51s 105ms/step - loss: 4.3036 - accuracy: 0.1403\n",
            "Epoch 30/100\n",
            "128/484 [======>.......................] - ETA: 36s - loss: 4.2038 - accuracy: 0.1509"
          ]
        },
        {
          "output_type": "error",
          "ename": "KeyboardInterrupt",
          "evalue": "ignored",
          "traceback": [
            "\u001b[0;31m---------------------------------------------------------------------------\u001b[0m",
            "\u001b[0;31mKeyboardInterrupt\u001b[0m                         Traceback (most recent call last)",
            "\u001b[0;32m<ipython-input-25-1fe39dce5bcb>\u001b[0m in \u001b[0;36m<module>\u001b[0;34m()\u001b[0m\n\u001b[1;32m      3\u001b[0m                     \u001b[0mepochs\u001b[0m\u001b[0;34m=\u001b[0m\u001b[0;36m100\u001b[0m\u001b[0;34m,\u001b[0m\u001b[0;34m\u001b[0m\u001b[0;34m\u001b[0m\u001b[0m\n\u001b[1;32m      4\u001b[0m                     \u001b[0mcallbacks\u001b[0m \u001b[0;34m=\u001b[0m \u001b[0;34m[\u001b[0m\u001b[0mcheckpoint\u001b[0m\u001b[0;34m]\u001b[0m\u001b[0;34m,\u001b[0m\u001b[0;34m\u001b[0m\u001b[0;34m\u001b[0m\u001b[0m\n\u001b[0;32m----> 5\u001b[0;31m                     verbose=1)\n\u001b[0m",
            "\u001b[0;32m/usr/local/lib/python3.7/dist-packages/keras/utils/traceback_utils.py\u001b[0m in \u001b[0;36merror_handler\u001b[0;34m(*args, **kwargs)\u001b[0m\n\u001b[1;32m     62\u001b[0m     \u001b[0mfiltered_tb\u001b[0m \u001b[0;34m=\u001b[0m \u001b[0;32mNone\u001b[0m\u001b[0;34m\u001b[0m\u001b[0;34m\u001b[0m\u001b[0m\n\u001b[1;32m     63\u001b[0m     \u001b[0;32mtry\u001b[0m\u001b[0;34m:\u001b[0m\u001b[0;34m\u001b[0m\u001b[0;34m\u001b[0m\u001b[0m\n\u001b[0;32m---> 64\u001b[0;31m       \u001b[0;32mreturn\u001b[0m \u001b[0mfn\u001b[0m\u001b[0;34m(\u001b[0m\u001b[0;34m*\u001b[0m\u001b[0margs\u001b[0m\u001b[0;34m,\u001b[0m \u001b[0;34m**\u001b[0m\u001b[0mkwargs\u001b[0m\u001b[0;34m)\u001b[0m\u001b[0;34m\u001b[0m\u001b[0;34m\u001b[0m\u001b[0m\n\u001b[0m\u001b[1;32m     65\u001b[0m     \u001b[0;32mexcept\u001b[0m \u001b[0mException\u001b[0m \u001b[0;32mas\u001b[0m \u001b[0me\u001b[0m\u001b[0;34m:\u001b[0m  \u001b[0;31m# pylint: disable=broad-except\u001b[0m\u001b[0;34m\u001b[0m\u001b[0;34m\u001b[0m\u001b[0m\n\u001b[1;32m     66\u001b[0m       \u001b[0mfiltered_tb\u001b[0m \u001b[0;34m=\u001b[0m \u001b[0m_process_traceback_frames\u001b[0m\u001b[0;34m(\u001b[0m\u001b[0me\u001b[0m\u001b[0;34m.\u001b[0m\u001b[0m__traceback__\u001b[0m\u001b[0;34m)\u001b[0m\u001b[0;34m\u001b[0m\u001b[0;34m\u001b[0m\u001b[0m\n",
            "\u001b[0;32m/usr/local/lib/python3.7/dist-packages/keras/engine/training.py\u001b[0m in \u001b[0;36mfit\u001b[0;34m(self, x, y, batch_size, epochs, verbose, callbacks, validation_split, validation_data, shuffle, class_weight, sample_weight, initial_epoch, steps_per_epoch, validation_steps, validation_batch_size, validation_freq, max_queue_size, workers, use_multiprocessing)\u001b[0m\n\u001b[1;32m   1214\u001b[0m                 _r=1):\n\u001b[1;32m   1215\u001b[0m               \u001b[0mcallbacks\u001b[0m\u001b[0;34m.\u001b[0m\u001b[0mon_train_batch_begin\u001b[0m\u001b[0;34m(\u001b[0m\u001b[0mstep\u001b[0m\u001b[0;34m)\u001b[0m\u001b[0;34m\u001b[0m\u001b[0;34m\u001b[0m\u001b[0m\n\u001b[0;32m-> 1216\u001b[0;31m               \u001b[0mtmp_logs\u001b[0m \u001b[0;34m=\u001b[0m \u001b[0mself\u001b[0m\u001b[0;34m.\u001b[0m\u001b[0mtrain_function\u001b[0m\u001b[0;34m(\u001b[0m\u001b[0miterator\u001b[0m\u001b[0;34m)\u001b[0m\u001b[0;34m\u001b[0m\u001b[0;34m\u001b[0m\u001b[0m\n\u001b[0m\u001b[1;32m   1217\u001b[0m               \u001b[0;32mif\u001b[0m \u001b[0mdata_handler\u001b[0m\u001b[0;34m.\u001b[0m\u001b[0mshould_sync\u001b[0m\u001b[0;34m:\u001b[0m\u001b[0;34m\u001b[0m\u001b[0;34m\u001b[0m\u001b[0m\n\u001b[1;32m   1218\u001b[0m                 \u001b[0mcontext\u001b[0m\u001b[0;34m.\u001b[0m\u001b[0masync_wait\u001b[0m\u001b[0;34m(\u001b[0m\u001b[0;34m)\u001b[0m\u001b[0;34m\u001b[0m\u001b[0;34m\u001b[0m\u001b[0m\n",
            "\u001b[0;32m/usr/local/lib/python3.7/dist-packages/tensorflow/python/util/traceback_utils.py\u001b[0m in \u001b[0;36merror_handler\u001b[0;34m(*args, **kwargs)\u001b[0m\n\u001b[1;32m    148\u001b[0m     \u001b[0mfiltered_tb\u001b[0m \u001b[0;34m=\u001b[0m \u001b[0;32mNone\u001b[0m\u001b[0;34m\u001b[0m\u001b[0;34m\u001b[0m\u001b[0m\n\u001b[1;32m    149\u001b[0m     \u001b[0;32mtry\u001b[0m\u001b[0;34m:\u001b[0m\u001b[0;34m\u001b[0m\u001b[0;34m\u001b[0m\u001b[0m\n\u001b[0;32m--> 150\u001b[0;31m       \u001b[0;32mreturn\u001b[0m \u001b[0mfn\u001b[0m\u001b[0;34m(\u001b[0m\u001b[0;34m*\u001b[0m\u001b[0margs\u001b[0m\u001b[0;34m,\u001b[0m \u001b[0;34m**\u001b[0m\u001b[0mkwargs\u001b[0m\u001b[0;34m)\u001b[0m\u001b[0;34m\u001b[0m\u001b[0;34m\u001b[0m\u001b[0m\n\u001b[0m\u001b[1;32m    151\u001b[0m     \u001b[0;32mexcept\u001b[0m \u001b[0mException\u001b[0m \u001b[0;32mas\u001b[0m \u001b[0me\u001b[0m\u001b[0;34m:\u001b[0m\u001b[0;34m\u001b[0m\u001b[0;34m\u001b[0m\u001b[0m\n\u001b[1;32m    152\u001b[0m       \u001b[0mfiltered_tb\u001b[0m \u001b[0;34m=\u001b[0m \u001b[0m_process_traceback_frames\u001b[0m\u001b[0;34m(\u001b[0m\u001b[0me\u001b[0m\u001b[0;34m.\u001b[0m\u001b[0m__traceback__\u001b[0m\u001b[0;34m)\u001b[0m\u001b[0;34m\u001b[0m\u001b[0;34m\u001b[0m\u001b[0m\n",
            "\u001b[0;32m/usr/local/lib/python3.7/dist-packages/tensorflow/python/eager/def_function.py\u001b[0m in \u001b[0;36m__call__\u001b[0;34m(self, *args, **kwds)\u001b[0m\n\u001b[1;32m    908\u001b[0m \u001b[0;34m\u001b[0m\u001b[0m\n\u001b[1;32m    909\u001b[0m       \u001b[0;32mwith\u001b[0m \u001b[0mOptionalXlaContext\u001b[0m\u001b[0;34m(\u001b[0m\u001b[0mself\u001b[0m\u001b[0;34m.\u001b[0m\u001b[0m_jit_compile\u001b[0m\u001b[0;34m)\u001b[0m\u001b[0;34m:\u001b[0m\u001b[0;34m\u001b[0m\u001b[0;34m\u001b[0m\u001b[0m\n\u001b[0;32m--> 910\u001b[0;31m         \u001b[0mresult\u001b[0m \u001b[0;34m=\u001b[0m \u001b[0mself\u001b[0m\u001b[0;34m.\u001b[0m\u001b[0m_call\u001b[0m\u001b[0;34m(\u001b[0m\u001b[0;34m*\u001b[0m\u001b[0margs\u001b[0m\u001b[0;34m,\u001b[0m \u001b[0;34m**\u001b[0m\u001b[0mkwds\u001b[0m\u001b[0;34m)\u001b[0m\u001b[0;34m\u001b[0m\u001b[0;34m\u001b[0m\u001b[0m\n\u001b[0m\u001b[1;32m    911\u001b[0m \u001b[0;34m\u001b[0m\u001b[0m\n\u001b[1;32m    912\u001b[0m       \u001b[0mnew_tracing_count\u001b[0m \u001b[0;34m=\u001b[0m \u001b[0mself\u001b[0m\u001b[0;34m.\u001b[0m\u001b[0mexperimental_get_tracing_count\u001b[0m\u001b[0;34m(\u001b[0m\u001b[0;34m)\u001b[0m\u001b[0;34m\u001b[0m\u001b[0;34m\u001b[0m\u001b[0m\n",
            "\u001b[0;32m/usr/local/lib/python3.7/dist-packages/tensorflow/python/eager/def_function.py\u001b[0m in \u001b[0;36m_call\u001b[0;34m(self, *args, **kwds)\u001b[0m\n\u001b[1;32m    940\u001b[0m       \u001b[0;31m# In this case we have created variables on the first call, so we run the\u001b[0m\u001b[0;34m\u001b[0m\u001b[0;34m\u001b[0m\u001b[0;34m\u001b[0m\u001b[0m\n\u001b[1;32m    941\u001b[0m       \u001b[0;31m# defunned version which is guaranteed to never create variables.\u001b[0m\u001b[0;34m\u001b[0m\u001b[0;34m\u001b[0m\u001b[0;34m\u001b[0m\u001b[0m\n\u001b[0;32m--> 942\u001b[0;31m       \u001b[0;32mreturn\u001b[0m \u001b[0mself\u001b[0m\u001b[0;34m.\u001b[0m\u001b[0m_stateless_fn\u001b[0m\u001b[0;34m(\u001b[0m\u001b[0;34m*\u001b[0m\u001b[0margs\u001b[0m\u001b[0;34m,\u001b[0m \u001b[0;34m**\u001b[0m\u001b[0mkwds\u001b[0m\u001b[0;34m)\u001b[0m  \u001b[0;31m# pylint: disable=not-callable\u001b[0m\u001b[0;34m\u001b[0m\u001b[0;34m\u001b[0m\u001b[0m\n\u001b[0m\u001b[1;32m    943\u001b[0m     \u001b[0;32melif\u001b[0m \u001b[0mself\u001b[0m\u001b[0;34m.\u001b[0m\u001b[0m_stateful_fn\u001b[0m \u001b[0;32mis\u001b[0m \u001b[0;32mnot\u001b[0m \u001b[0;32mNone\u001b[0m\u001b[0;34m:\u001b[0m\u001b[0;34m\u001b[0m\u001b[0;34m\u001b[0m\u001b[0m\n\u001b[1;32m    944\u001b[0m       \u001b[0;31m# Release the lock early so that multiple threads can perform the call\u001b[0m\u001b[0;34m\u001b[0m\u001b[0;34m\u001b[0m\u001b[0;34m\u001b[0m\u001b[0m\n",
            "\u001b[0;32m/usr/local/lib/python3.7/dist-packages/tensorflow/python/eager/function.py\u001b[0m in \u001b[0;36m__call__\u001b[0;34m(self, *args, **kwargs)\u001b[0m\n\u001b[1;32m   3129\u001b[0m        filtered_flat_args) = self._maybe_define_function(args, kwargs)\n\u001b[1;32m   3130\u001b[0m     return graph_function._call_flat(\n\u001b[0;32m-> 3131\u001b[0;31m         filtered_flat_args, captured_inputs=graph_function.captured_inputs)  # pylint: disable=protected-access\n\u001b[0m\u001b[1;32m   3132\u001b[0m \u001b[0;34m\u001b[0m\u001b[0m\n\u001b[1;32m   3133\u001b[0m   \u001b[0;34m@\u001b[0m\u001b[0mproperty\u001b[0m\u001b[0;34m\u001b[0m\u001b[0;34m\u001b[0m\u001b[0m\n",
            "\u001b[0;32m/usr/local/lib/python3.7/dist-packages/tensorflow/python/eager/function.py\u001b[0m in \u001b[0;36m_call_flat\u001b[0;34m(self, args, captured_inputs, cancellation_manager)\u001b[0m\n\u001b[1;32m   1958\u001b[0m       \u001b[0;31m# No tape is watching; skip to running the function.\u001b[0m\u001b[0;34m\u001b[0m\u001b[0;34m\u001b[0m\u001b[0;34m\u001b[0m\u001b[0m\n\u001b[1;32m   1959\u001b[0m       return self._build_call_outputs(self._inference_function.call(\n\u001b[0;32m-> 1960\u001b[0;31m           ctx, args, cancellation_manager=cancellation_manager))\n\u001b[0m\u001b[1;32m   1961\u001b[0m     forward_backward = self._select_forward_and_backward_functions(\n\u001b[1;32m   1962\u001b[0m         \u001b[0margs\u001b[0m\u001b[0;34m,\u001b[0m\u001b[0;34m\u001b[0m\u001b[0;34m\u001b[0m\u001b[0m\n",
            "\u001b[0;32m/usr/local/lib/python3.7/dist-packages/tensorflow/python/eager/function.py\u001b[0m in \u001b[0;36mcall\u001b[0;34m(self, ctx, args, cancellation_manager)\u001b[0m\n\u001b[1;32m    601\u001b[0m               \u001b[0minputs\u001b[0m\u001b[0;34m=\u001b[0m\u001b[0margs\u001b[0m\u001b[0;34m,\u001b[0m\u001b[0;34m\u001b[0m\u001b[0;34m\u001b[0m\u001b[0m\n\u001b[1;32m    602\u001b[0m               \u001b[0mattrs\u001b[0m\u001b[0;34m=\u001b[0m\u001b[0mattrs\u001b[0m\u001b[0;34m,\u001b[0m\u001b[0;34m\u001b[0m\u001b[0;34m\u001b[0m\u001b[0m\n\u001b[0;32m--> 603\u001b[0;31m               ctx=ctx)\n\u001b[0m\u001b[1;32m    604\u001b[0m         \u001b[0;32melse\u001b[0m\u001b[0;34m:\u001b[0m\u001b[0;34m\u001b[0m\u001b[0;34m\u001b[0m\u001b[0m\n\u001b[1;32m    605\u001b[0m           outputs = execute.execute_with_cancellation(\n",
            "\u001b[0;32m/usr/local/lib/python3.7/dist-packages/tensorflow/python/eager/execute.py\u001b[0m in \u001b[0;36mquick_execute\u001b[0;34m(op_name, num_outputs, inputs, attrs, ctx, name)\u001b[0m\n\u001b[1;32m     57\u001b[0m     \u001b[0mctx\u001b[0m\u001b[0;34m.\u001b[0m\u001b[0mensure_initialized\u001b[0m\u001b[0;34m(\u001b[0m\u001b[0;34m)\u001b[0m\u001b[0;34m\u001b[0m\u001b[0;34m\u001b[0m\u001b[0m\n\u001b[1;32m     58\u001b[0m     tensors = pywrap_tfe.TFE_Py_Execute(ctx._handle, device_name, op_name,\n\u001b[0;32m---> 59\u001b[0;31m                                         inputs, attrs, num_outputs)\n\u001b[0m\u001b[1;32m     60\u001b[0m   \u001b[0;32mexcept\u001b[0m \u001b[0mcore\u001b[0m\u001b[0;34m.\u001b[0m\u001b[0m_NotOkStatusException\u001b[0m \u001b[0;32mas\u001b[0m \u001b[0me\u001b[0m\u001b[0;34m:\u001b[0m\u001b[0;34m\u001b[0m\u001b[0;34m\u001b[0m\u001b[0m\n\u001b[1;32m     61\u001b[0m     \u001b[0;32mif\u001b[0m \u001b[0mname\u001b[0m \u001b[0;32mis\u001b[0m \u001b[0;32mnot\u001b[0m \u001b[0;32mNone\u001b[0m\u001b[0;34m:\u001b[0m\u001b[0;34m\u001b[0m\u001b[0;34m\u001b[0m\u001b[0m\n",
            "\u001b[0;31mKeyboardInterrupt\u001b[0m: "
          ]
        }
      ]
    },
    {
      "cell_type": "code",
      "metadata": {
        "id": "Io9JTBJVtzsH"
      },
      "source": [
        ""
      ],
      "execution_count": null,
      "outputs": []
    }
  ]
}